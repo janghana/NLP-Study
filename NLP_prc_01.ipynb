{
  "nbformat": 4,
  "nbformat_minor": 0,
  "metadata": {
    "colab": {
      "provenance": []
    },
    "kernelspec": {
      "name": "python3",
      "display_name": "Python 3"
    },
    "language_info": {
      "name": "python"
    },
    "gpuClass": "standard",
    "accelerator": "GPU"
  },
  "cells": [
    {
      "cell_type": "code",
      "execution_count": 1,
      "metadata": {
        "colab": {
          "base_uri": "https://localhost:8080/"
        },
        "id": "kMsaUPTkWtXX",
        "outputId": "9a359be6-0f64-4f5c-fc93-e86510ce8e08"
      },
      "outputs": [
        {
          "output_type": "stream",
          "name": "stdout",
          "text": [
            "total 16\n",
            "drwxr-xr-x 1 root root 4096 Mar  8 14:35 .\n",
            "drwxr-xr-x 1 root root 4096 Mar 10 07:10 ..\n",
            "drwxr-xr-x 4 root root 4096 Mar  8 14:34 .config\n",
            "drwxr-xr-x 1 root root 4096 Mar  8 14:35 sample_data\n"
          ]
        }
      ],
      "source": [
        "!ls -al"
      ]
    },
    {
      "cell_type": "code",
      "source": [
        "print(\"hello world !\")\n",
        "for i in range(5):\n",
        "  print(i)"
      ],
      "metadata": {
        "colab": {
          "base_uri": "https://localhost:8080/"
        },
        "id": "IBIkzzMyWvuc",
        "outputId": "72f802ba-9da8-41c6-9309-f18930213a53"
      },
      "execution_count": 3,
      "outputs": [
        {
          "output_type": "stream",
          "name": "stdout",
          "text": [
            "hello world !\n",
            "0\n",
            "1\n",
            "2\n",
            "3\n",
            "4\n"
          ]
        }
      ]
    },
    {
      "cell_type": "code",
      "source": [
        "!python --version"
      ],
      "metadata": {
        "colab": {
          "base_uri": "https://localhost:8080/"
        },
        "id": "-Fk_RPtRW1o2",
        "outputId": "b31aa890-9157-42b0-c13a-194b0105a6f1"
      },
      "execution_count": 4,
      "outputs": [
        {
          "output_type": "stream",
          "name": "stdout",
          "text": [
            "Python 3.9.16\n"
          ]
        }
      ]
    },
    {
      "cell_type": "code",
      "source": [
        "!pip list"
      ],
      "metadata": {
        "colab": {
          "base_uri": "https://localhost:8080/"
        },
        "id": "mzam_W7SW8Mc",
        "outputId": "6ab8e33d-c761-4442-fced-83c0681a520c"
      },
      "execution_count": 5,
      "outputs": [
        {
          "output_type": "stream",
          "name": "stdout",
          "text": [
            "Package                       Version\n",
            "----------------------------- --------------------\n",
            "absl-py                       1.4.0\n",
            "aeppl                         0.0.33\n",
            "aesara                        2.7.9\n",
            "alabaster                     0.7.13\n",
            "albumentations                1.2.1\n",
            "altair                        4.2.2\n",
            "argon2-cffi                   21.3.0\n",
            "argon2-cffi-bindings          21.2.0\n",
            "arviz                         0.12.1\n",
            "astor                         0.8.1\n",
            "astropy                       4.3.1\n",
            "astunparse                    1.6.3\n",
            "atomicwrites                  1.4.1\n",
            "attrs                         22.2.0\n",
            "audioread                     3.0.0\n",
            "autograd                      1.5\n",
            "Babel                         2.12.1\n",
            "backcall                      0.2.0\n",
            "backports.zoneinfo            0.2.1\n",
            "beautifulsoup4                4.6.3\n",
            "bleach                        6.0.0\n",
            "blis                          0.7.9\n",
            "bokeh                         2.4.3\n",
            "branca                        0.6.0\n",
            "bs4                           0.0.1\n",
            "CacheControl                  0.12.11\n",
            "cachetools                    5.3.0\n",
            "catalogue                     2.0.8\n",
            "certifi                       2022.12.7\n",
            "cffi                          1.15.1\n",
            "cftime                        1.6.2\n",
            "chardet                       4.0.0\n",
            "click                         8.1.3\n",
            "cloudpickle                   2.2.1\n",
            "cmake                         3.22.6\n",
            "cmdstanpy                     1.1.0\n",
            "colorcet                      3.0.1\n",
            "colorlover                    0.3.0\n",
            "community                     1.0.0b1\n",
            "confection                    0.0.4\n",
            "cons                          0.4.5\n",
            "contextlib2                   0.5.5\n",
            "convertdate                   2.4.0\n",
            "cufflinks                     0.17.3\n",
            "cvxopt                        1.3.0\n",
            "cvxpy                         1.2.3\n",
            "cycler                        0.11.0\n",
            "cymem                         2.0.7\n",
            "Cython                        0.29.33\n",
            "dask                          2022.2.1\n",
            "datascience                   0.17.6\n",
            "db-dtypes                     1.0.5\n",
            "dbus-python                   1.2.16\n",
            "debugpy                       1.6.6\n",
            "decorator                     4.4.2\n",
            "defusedxml                    0.7.1\n",
            "distributed                   2022.2.1\n",
            "dlib                          19.24.0\n",
            "dm-tree                       0.1.8\n",
            "dnspython                     2.3.0\n",
            "docutils                      0.16\n",
            "dopamine-rl                   1.0.5\n",
            "earthengine-api               0.1.343\n",
            "easydict                      1.10\n",
            "ecos                          2.0.12\n",
            "editdistance                  0.5.3\n",
            "en-core-web-sm                3.4.1\n",
            "entrypoints                   0.4\n",
            "ephem                         4.1.4\n",
            "et-xmlfile                    1.1.0\n",
            "etils                         1.0.0\n",
            "etuples                       0.3.8\n",
            "fastai                        2.7.11\n",
            "fastcore                      1.5.28\n",
            "fastdownload                  0.0.7\n",
            "fastjsonschema                2.16.3\n",
            "fastprogress                  1.0.3\n",
            "fastrlock                     0.8.1\n",
            "filelock                      3.9.0\n",
            "firebase-admin                5.3.0\n",
            "fix-yahoo-finance             0.0.22\n",
            "Flask                         2.2.3\n",
            "flatbuffers                   23.3.3\n",
            "folium                        0.12.1.post1\n",
            "fonttools                     4.39.0\n",
            "fsspec                        2023.3.0\n",
            "future                        0.16.0\n",
            "gast                          0.4.0\n",
            "GDAL                          3.3.2\n",
            "gdown                         4.4.0\n",
            "gensim                        3.6.0\n",
            "geographiclib                 1.52\n",
            "geopy                         1.17.0\n",
            "gin-config                    0.5.0\n",
            "glob2                         0.7\n",
            "google                        2.0.3\n",
            "google-api-core               2.11.0\n",
            "google-api-python-client      2.70.0\n",
            "google-auth                   2.16.2\n",
            "google-auth-httplib2          0.1.0\n",
            "google-auth-oauthlib          0.4.6\n",
            "google-cloud-bigquery         3.4.2\n",
            "google-cloud-bigquery-storage 2.19.0\n",
            "google-cloud-core             2.3.2\n",
            "google-cloud-datastore        2.11.1\n",
            "google-cloud-firestore        2.7.3\n",
            "google-cloud-language         2.6.1\n",
            "google-cloud-storage          2.7.0\n",
            "google-cloud-translate        3.8.4\n",
            "google-colab                  1.0.0\n",
            "google-crc32c                 1.5.0\n",
            "google-pasta                  0.2.0\n",
            "google-resumable-media        2.4.1\n",
            "googleapis-common-protos      1.58.0\n",
            "googledrivedownloader         0.4\n",
            "graphviz                      0.10.1\n",
            "greenlet                      2.0.2\n",
            "grpcio                        1.51.3\n",
            "grpcio-status                 1.48.2\n",
            "gspread                       3.4.2\n",
            "gspread-dataframe             3.0.8\n",
            "gym                           0.25.2\n",
            "gym-notices                   0.0.8\n",
            "h5py                          3.1.0\n",
            "HeapDict                      1.0.1\n",
            "hijri-converter               2.2.4\n",
            "holidays                      0.21\n",
            "holoviews                     1.14.9\n",
            "html5lib                      1.0.1\n",
            "httpimport                    0.5.18\n",
            "httplib2                      0.17.4\n",
            "humanize                      0.5.1\n",
            "hyperopt                      0.1.2\n",
            "idna                          2.10\n",
            "imageio                       2.9.0\n",
            "imagesize                     1.4.1\n",
            "imbalanced-learn              0.8.1\n",
            "imblearn                      0.0\n",
            "imgaug                        0.4.0\n",
            "importlib-metadata            6.0.0\n",
            "importlib-resources           5.12.0\n",
            "imutils                       0.5.4\n",
            "inflect                       2.1.0\n",
            "intel-openmp                  2023.0.0\n",
            "ipykernel                     5.3.4\n",
            "ipython                       7.9.0\n",
            "ipython-genutils              0.2.0\n",
            "ipython-sql                   0.3.9\n",
            "ipywidgets                    7.7.1\n",
            "itsdangerous                  2.1.2\n",
            "jax                           0.4.4\n",
            "jaxlib                        0.4.4+cuda11.cudnn82\n",
            "jieba                         0.42.1\n",
            "Jinja2                        3.1.2\n",
            "joblib                        1.2.0\n",
            "jsonschema                    4.3.3\n",
            "jupyter-client                6.1.12\n",
            "jupyter-console               6.1.0\n",
            "jupyter_core                  5.2.0\n",
            "jupyterlab-pygments           0.2.2\n",
            "jupyterlab-widgets            3.0.5\n",
            "kaggle                        1.5.13\n",
            "keras                         2.11.0\n",
            "keras-vis                     0.4.1\n",
            "kiwisolver                    1.4.4\n",
            "korean-lunar-calendar         0.3.1\n",
            "langcodes                     3.3.0\n",
            "libclang                      15.0.6.1\n",
            "librosa                       0.8.1\n",
            "lightgbm                      2.2.3\n",
            "llvmlite                      0.39.1\n",
            "locket                        1.0.0\n",
            "logical-unification           0.4.5\n",
            "LunarCalendar                 0.0.9\n",
            "lxml                          4.9.2\n",
            "Markdown                      3.4.1\n",
            "MarkupSafe                    2.1.2\n",
            "matplotlib                    3.5.3\n",
            "matplotlib-venn               0.11.9\n",
            "miniKanren                    1.0.3\n",
            "missingno                     0.5.2\n",
            "mistune                       0.8.4\n",
            "mizani                        0.8.1\n",
            "mkl                           2019.0\n",
            "mlxtend                       0.14.0\n",
            "more-itertools                9.1.0\n",
            "moviepy                       0.2.3.5\n",
            "mpmath                        1.2.1\n",
            "msgpack                       1.0.4\n",
            "multipledispatch              0.6.0\n",
            "multitasking                  0.0.11\n",
            "murmurhash                    1.0.9\n",
            "music21                       5.5.0\n",
            "natsort                       5.5.0\n",
            "nbclient                      0.7.2\n",
            "nbconvert                     6.5.4\n",
            "nbformat                      5.7.3\n",
            "netCDF4                       1.6.3\n",
            "networkx                      3.0\n",
            "nibabel                       3.0.2\n",
            "nltk                          3.7\n",
            "notebook                      6.3.0\n",
            "numba                         0.56.4\n",
            "numexpr                       2.8.4\n",
            "numpy                         1.22.4\n",
            "oauth2client                  4.1.3\n",
            "oauthlib                      3.2.2\n",
            "opencv-contrib-python         4.6.0.66\n",
            "opencv-python                 4.6.0.66\n",
            "opencv-python-headless        4.7.0.72\n",
            "openpyxl                      3.0.10\n",
            "opt-einsum                    3.3.0\n",
            "osqp                          0.6.2.post0\n",
            "packaging                     23.0\n",
            "palettable                    3.3.0\n",
            "pandas                        1.3.5\n",
            "pandas-datareader             0.9.0\n",
            "pandas-gbq                    0.17.9\n",
            "pandas-profiling              1.4.1\n",
            "pandocfilters                 1.5.0\n",
            "panel                         0.14.4\n",
            "param                         1.12.3\n",
            "parso                         0.8.3\n",
            "partd                         1.3.0\n",
            "pathlib                       1.0.1\n",
            "pathy                         0.10.1\n",
            "patsy                         0.5.3\n",
            "pep517                        0.13.0\n",
            "pexpect                       4.8.0\n",
            "pickleshare                   0.7.5\n",
            "Pillow                        8.4.0\n",
            "pip                           22.0.4\n",
            "pip-tools                     6.6.2\n",
            "platformdirs                  3.1.0\n",
            "plotly                        5.5.0\n",
            "plotnine                      0.10.1\n",
            "pluggy                        0.7.1\n",
            "pooch                         1.7.0\n",
            "portpicker                    1.3.9\n",
            "prefetch-generator            1.0.3\n",
            "preshed                       3.0.8\n",
            "prettytable                   3.6.0\n",
            "progressbar2                  3.38.0\n",
            "prometheus-client             0.16.0\n",
            "promise                       2.3\n",
            "prompt-toolkit                2.0.10\n",
            "prophet                       1.1.2\n",
            "proto-plus                    1.22.2\n",
            "protobuf                      3.19.6\n",
            "psutil                        5.4.8\n",
            "psycopg2                      2.9.5\n",
            "ptyprocess                    0.7.0\n",
            "py                            1.11.0\n",
            "pyarrow                       9.0.0\n",
            "pyasn1                        0.4.8\n",
            "pyasn1-modules                0.2.8\n",
            "pycocotools                   2.0.6\n",
            "pycparser                     2.21\n",
            "pyct                          0.5.0\n",
            "pydantic                      1.10.5\n",
            "pydata-google-auth            1.7.0\n",
            "pydot                         1.3.0\n",
            "pydot-ng                      2.0.0\n",
            "pydotplus                     2.0.2\n",
            "PyDrive                       1.3.1\n",
            "pyerfa                        2.0.0.1\n",
            "Pygments                      2.6.1\n",
            "PyGObject                     3.36.0\n",
            "pymc                          4.1.4\n",
            "PyMeeus                       0.5.12\n",
            "pymongo                       4.3.3\n",
            "pymystem3                     0.2.0\n",
            "PyOpenGL                      3.1.6\n",
            "pyparsing                     3.0.9\n",
            "pyrsistent                    0.19.3\n",
            "PySocks                       1.7.1\n",
            "pytest                        3.6.4\n",
            "python-apt                    0.0.0\n",
            "python-dateutil               2.8.2\n",
            "python-louvain                0.16\n",
            "python-slugify                8.0.1\n",
            "python-utils                  3.5.2\n",
            "pytz                          2022.7.1\n",
            "pytz-deprecation-shim         0.1.0.post0\n",
            "pyviz-comms                   2.2.1\n",
            "PyWavelets                    1.4.1\n",
            "PyYAML                        6.0\n",
            "pyzmq                         23.2.1\n",
            "qdldl                         0.1.5.post3\n",
            "qudida                        0.0.4\n",
            "regex                         2022.6.2\n",
            "requests                      2.25.1\n",
            "requests-oauthlib             1.3.1\n",
            "requests-unixsocket           0.2.0\n",
            "resampy                       0.4.2\n",
            "rpy2                          3.5.5\n",
            "rsa                           4.9\n",
            "scikit-image                  0.19.3\n",
            "scikit-learn                  1.2.1\n",
            "scipy                         1.10.1\n",
            "screen-resolution-extra       0.0.0\n",
            "scs                           3.2.2\n",
            "seaborn                       0.11.2\n",
            "Send2Trash                    1.8.0\n",
            "setuptools                    57.4.0\n",
            "shapely                       2.0.1\n",
            "six                           1.15.0\n",
            "sklearn-pandas                2.2.0\n",
            "smart-open                    6.3.0\n",
            "snowballstemmer               2.2.0\n",
            "sortedcontainers              2.4.0\n",
            "soundfile                     0.12.1\n",
            "spacy                         3.4.4\n",
            "spacy-legacy                  3.0.12\n",
            "spacy-loggers                 1.0.4\n",
            "Sphinx                        3.5.4\n",
            "sphinxcontrib-applehelp       1.0.4\n",
            "sphinxcontrib-devhelp         1.0.2\n",
            "sphinxcontrib-htmlhelp        2.0.1\n",
            "sphinxcontrib-jsmath          1.0.1\n",
            "sphinxcontrib-qthelp          1.0.3\n",
            "sphinxcontrib-serializinghtml 1.1.5\n",
            "SQLAlchemy                    1.4.46\n",
            "sqlparse                      0.4.3\n",
            "srsly                         2.4.6\n",
            "statsmodels                   0.13.5\n",
            "sympy                         1.7.1\n",
            "tables                        3.7.0\n",
            "tabulate                      0.8.10\n",
            "tblib                         1.7.0\n",
            "tenacity                      8.2.2\n",
            "tensorboard                   2.11.2\n",
            "tensorboard-data-server       0.6.1\n",
            "tensorboard-plugin-wit        1.8.1\n",
            "tensorflow                    2.11.0\n",
            "tensorflow-datasets           4.8.3\n",
            "tensorflow-estimator          2.11.0\n",
            "tensorflow-gcs-config         2.11.0\n",
            "tensorflow-hub                0.12.0\n",
            "tensorflow-io-gcs-filesystem  0.31.0\n",
            "tensorflow-metadata           1.12.0\n",
            "tensorflow-probability        0.19.0\n",
            "termcolor                     2.2.0\n",
            "terminado                     0.17.1\n",
            "text-unidecode                1.3\n",
            "textblob                      0.15.3\n",
            "thinc                         8.1.8\n",
            "threadpoolctl                 3.1.0\n",
            "tifffile                      2023.2.28\n",
            "tinycss2                      1.2.1\n",
            "toml                          0.10.2\n",
            "tomli                         2.0.1\n",
            "toolz                         0.12.0\n",
            "torch                         1.13.1+cu116\n",
            "torchaudio                    0.13.1+cu116\n",
            "torchsummary                  1.5.1\n",
            "torchtext                     0.14.1\n",
            "torchvision                   0.14.1+cu116\n",
            "tornado                       6.2\n",
            "tqdm                          4.65.0\n",
            "traitlets                     5.7.1\n",
            "tweepy                        3.10.0\n",
            "typer                         0.7.0\n",
            "typing_extensions             4.5.0\n",
            "tzdata                        2022.7\n",
            "tzlocal                       4.2\n",
            "uritemplate                   4.1.1\n",
            "urllib3                       1.26.14\n",
            "vega-datasets                 0.9.0\n",
            "wasabi                        0.10.1\n",
            "wcwidth                       0.2.6\n",
            "webencodings                  0.5.1\n",
            "Werkzeug                      2.2.3\n",
            "wheel                         0.38.4\n",
            "widgetsnbextension            3.6.2\n",
            "wordcloud                     1.8.2.2\n",
            "wrapt                         1.15.0\n",
            "xarray                        2022.12.0\n",
            "xarray-einstats               0.5.1\n",
            "xgboost                       1.7.4\n",
            "xkit                          0.0.0\n",
            "xlrd                          1.2.0\n",
            "xlwt                          1.3.0\n",
            "yellowbrick                   1.5\n",
            "zict                          2.2.0\n",
            "zipp                          3.15.0\n"
          ]
        }
      ]
    },
    {
      "cell_type": "code",
      "source": [
        "!nvidia-smi\n",
        "# GPU 연결 안 되어 있을 때 나옴."
      ],
      "metadata": {
        "colab": {
          "base_uri": "https://localhost:8080/"
        },
        "id": "sYfVIowVXeXl",
        "outputId": "f35b3f33-d79a-421c-9560-b5c897d1287a"
      },
      "execution_count": 1,
      "outputs": [
        {
          "output_type": "stream",
          "name": "stdout",
          "text": [
            "NVIDIA-SMI has failed because it couldn't communicate with the NVIDIA driver. Make sure that the latest NVIDIA driver is installed and running.\n",
            "\n"
          ]
        }
      ]
    },
    {
      "cell_type": "code",
      "source": [
        "!nvidia-smi\n",
        "# GPU 사용량 알아볼 때 많이 쓰는 명령어 ! 알아두기 !!"
      ],
      "metadata": {
        "colab": {
          "base_uri": "https://localhost:8080/"
        },
        "id": "ikzQHkfJW-JF",
        "outputId": "156bd909-d969-4740-fe5c-a979a74c49f1"
      },
      "execution_count": 1,
      "outputs": [
        {
          "output_type": "stream",
          "name": "stdout",
          "text": [
            "Fri Mar 10 07:14:58 2023       \n",
            "+-----------------------------------------------------------------------------+\n",
            "| NVIDIA-SMI 525.85.12    Driver Version: 525.85.12    CUDA Version: 12.0     |\n",
            "|-------------------------------+----------------------+----------------------+\n",
            "| GPU  Name        Persistence-M| Bus-Id        Disp.A | Volatile Uncorr. ECC |\n",
            "| Fan  Temp  Perf  Pwr:Usage/Cap|         Memory-Usage | GPU-Util  Compute M. |\n",
            "|                               |                      |               MIG M. |\n",
            "|===============================+======================+======================|\n",
            "|   0  Tesla T4            Off  | 00000000:00:04.0 Off |                    0 |\n",
            "| N/A   45C    P0    25W /  70W |      0MiB / 15360MiB |      0%      Default |\n",
            "|                               |                      |                  N/A |\n",
            "+-------------------------------+----------------------+----------------------+\n",
            "                                                                               \n",
            "+-----------------------------------------------------------------------------+\n",
            "| Processes:                                                                  |\n",
            "|  GPU   GI   CI        PID   Type   Process name                  GPU Memory |\n",
            "|        ID   ID                                                   Usage      |\n",
            "|=============================================================================|\n",
            "|  No running processes found                                                 |\n",
            "+-----------------------------------------------------------------------------+\n"
          ]
        }
      ]
    },
    {
      "cell_type": "markdown",
      "source": [
        "# Python Basic"
      ],
      "metadata": {
        "id": "sz9sXUDvZM-w"
      }
    },
    {
      "cell_type": "code",
      "source": [
        "# list\n",
        "my_sent = ['Bravely','bold','Sir', 'Robin'] + [',','rode','from','Camelot']\n",
        "words = my_sent[1:4]\n",
        "print(words)\n",
        "words.sort()\n",
        "print(words)\n",
        "words.append('bold')\n",
        "print(words)\n",
        "print(words.index('Sir'))\n",
        "print(words[-1])\n",
        "vocab = set(words)\n",
        "print(vocab)\n",
        "vocab_size = len(vocab)\n",
        "print(vocab_size)\n",
        "print('Sir' in words)"
      ],
      "metadata": {
        "colab": {
          "base_uri": "https://localhost:8080/"
        },
        "id": "IpSdCvNvXO2m",
        "outputId": "9aa6bc21-7932-4e63-9c63-bbbf87fbd89d"
      },
      "execution_count": 1,
      "outputs": [
        {
          "output_type": "stream",
          "name": "stdout",
          "text": [
            "['bold', 'Sir', 'Robin']\n",
            "['Robin', 'Sir', 'bold']\n",
            "['Robin', 'Sir', 'bold', 'bold']\n",
            "1\n",
            "bold\n",
            "{'Sir', 'bold', 'Robin'}\n",
            "3\n",
            "True\n"
          ]
        }
      ]
    },
    {
      "cell_type": "code",
      "source": [
        "saying = ['After', 'all', 'is', 'said', 'and', 'done', 'all']\n",
        "tokens = set(saying)\n",
        "tokens = sorted(tokens)\n",
        "print(tokens[2:5])"
      ],
      "metadata": {
        "colab": {
          "base_uri": "https://localhost:8080/"
        },
        "id": "NvXpJPDcZh_w",
        "outputId": "896231a1-78e2-499f-e18e-7ae0c37dedf9"
      },
      "execution_count": 2,
      "outputs": [
        {
          "output_type": "stream",
          "name": "stdout",
          "text": [
            "['and', 'done', 'is']\n"
          ]
        }
      ]
    },
    {
      "cell_type": "code",
      "source": [
        "text = \"\"\"문장 문장 문장 문장\"\"\"\n",
        "print(text.split())"
      ],
      "metadata": {
        "colab": {
          "base_uri": "https://localhost:8080/"
        },
        "id": "n6XjJ4uwZ7d0",
        "outputId": "fd7f363c-fbf8-4ec0-9365-064c8dce76c9"
      },
      "execution_count": 6,
      "outputs": [
        {
          "output_type": "stream",
          "name": "stdout",
          "text": [
            "['문장', '문장', '문장', '문장']\n"
          ]
        }
      ]
    },
    {
      "cell_type": "code",
      "source": [
        "list1 = [1, 2, 3]\n",
        "print(type(list1))\n",
        "print(list1[0], list1[-1]) #인덱스가 음수일 경우 리스트의 끝에서부터 셈 list1[1] = “str1”\n",
        "print(list1) #리스트는 자료형이 다른 요소도 저장 가능\n",
        "list2 = range(10)\n",
        "print(list2)\n",
        "print(type(list2)) #range Type출력\n",
        "list2 = list(list2) #List Type으로 변환\n",
        "print(type(list2))\n",
        "print(list2[2:4]) # 인덱스 2에서 4(제외)까지 슬라이싱\n",
        "print(list2[2:]) # 인덱스 2에서 끝까지 슬라이싱\n",
        "print(list2[:2]) # 처음부터 인덱스 2(제외)까지 슬라이싱\n",
        "print(list2[:]) # 전체 리스트 슬라이싱\n",
        "print(list2[::2]) # 2씩 증가하면서 리스트 출력\n",
        "print(list2[:-1]) # 슬라이싱 인덱스는 음수도 가능\n",
        "list2[2:4] = [8, 9] # 슬라이스된 리스트에 새로운 리스트 할당\n",
        "print(list2[2:4])\n",
        "list2[2:5] = [8, 9] # ??\n",
        "print(list2[2:5])"
      ],
      "metadata": {
        "colab": {
          "base_uri": "https://localhost:8080/"
        },
        "id": "tDTmWnmEbIzD",
        "outputId": "a0a2e01f-fb11-4610-a155-9127f49a6111"
      },
      "execution_count": 6,
      "outputs": [
        {
          "output_type": "stream",
          "name": "stdout",
          "text": [
            "<class 'list'>\n",
            "1 3\n",
            "[1, 2, 3]\n",
            "range(0, 10)\n",
            "<class 'range'>\n",
            "<class 'list'>\n",
            "[2, 3]\n",
            "[2, 3, 4, 5, 6, 7, 8, 9]\n",
            "[0, 1]\n",
            "[0, 1, 2, 3, 4, 5, 6, 7, 8, 9]\n",
            "[0, 2, 4, 6, 8]\n",
            "[0, 1, 2, 3, 4, 5, 6, 7, 8]\n",
            "[8, 9]\n",
            "[8, 9, 5]\n"
          ]
        }
      ]
    },
    {
      "cell_type": "code",
      "source": [
        "animals = ['cat', 'dog', 'monkey']\n",
        "for animal in animals:\n",
        "    print(animal)\n",
        "nums = [0, 1, 2, 3, 4]\n",
        "squares = []\n",
        "for x in nums:\n",
        "    squares.append(x ** 2)\n",
        "print(squares)"
      ],
      "metadata": {
        "colab": {
          "base_uri": "https://localhost:8080/"
        },
        "id": "37D5WeUXcaiy",
        "outputId": "44485ad3-29dd-416a-d790-e808aaf74b08"
      },
      "execution_count": 7,
      "outputs": [
        {
          "output_type": "stream",
          "name": "stdout",
          "text": [
            "cat\n",
            "dog\n",
            "monkey\n",
            "[0, 1, 4, 9, 16]\n"
          ]
        }
      ]
    },
    {
      "cell_type": "code",
      "source": [
        "def sign(x):\n",
        "  if x > 0:\n",
        "    return 'positive'\n",
        "  elif x < 0:\n",
        "    return 'negative'\n",
        "  else:\n",
        "    return 'zero'\n",
        "for x in [-1, 0, 1]:\n",
        "  print(sign(x))\n",
        "# 출력 \"negative\", \"zero\", \"positive\", 한 줄에 하나씩 출력."
      ],
      "metadata": {
        "colab": {
          "base_uri": "https://localhost:8080/"
        },
        "id": "5x0bfmoQ0mz4",
        "outputId": "462408e0-3206-40aa-fda5-72822dba9459"
      },
      "execution_count": 1,
      "outputs": [
        {
          "output_type": "stream",
          "name": "stdout",
          "text": [
            "negative\n",
            "zero\n",
            "positive\n"
          ]
        }
      ]
    },
    {
      "cell_type": "code",
      "source": [
        "def hello(name, loud=False):\n",
        "  if loud:\n",
        "    print ('HELLO, %s!' % name.upper())\n",
        "  else:\n",
        "    print ('Hello, %s' % name)\n",
        "\n",
        "hello('Bob') # 출력 \"Hello, Bob\"\n",
        "hello('Fred', loud=True) # 출력 \"HELLO, FRED!\""
      ],
      "metadata": {
        "colab": {
          "base_uri": "https://localhost:8080/"
        },
        "id": "4vd9GGS90-aW",
        "outputId": "bac1e3bb-0fc4-400e-81ad-dfc9908151ec"
      },
      "execution_count": 2,
      "outputs": [
        {
          "output_type": "stream",
          "name": "stdout",
          "text": [
            "Hello, Bob\n",
            "HELLO, FRED!\n"
          ]
        }
      ]
    },
    {
      "cell_type": "code",
      "source": [
        "for x, y, z in zip([1, 2, 3], [4, 5, 6], [7, 8, 9]):\n",
        "  print(x, y, z)\n",
        "for x, y, z in zip([1, 2, 3], [4, 5, 6], [7, 8, 9]):\n",
        "  print(x, y, z)"
      ],
      "metadata": {
        "colab": {
          "base_uri": "https://localhost:8080/"
        },
        "id": "u0cwE4201J7S",
        "outputId": "b536d41f-e15f-4daa-d0bc-e8b1c290a06c"
      },
      "execution_count": 9,
      "outputs": [
        {
          "output_type": "stream",
          "name": "stdout",
          "text": [
            "1 4 7\n",
            "2 5 8\n",
            "3 6 9\n",
            "1 4 7\n",
            "2 5 8\n",
            "3 6 9\n"
          ]
        }
      ]
    },
    {
      "cell_type": "code",
      "source": [
        "# Packing & Unpacking\n",
        "# Packing\n",
        "print(1) # print함수는 몇개의 인자를 받든지 상관하지 않음 print(\"a\")\n",
        "print(\"aa\", \"bb\")\n",
        "######################\n",
        "def func(*args):\n",
        "  print(args)\n",
        "  print(type(args)) # Tuple\n",
        "\n",
        "func(1, 2, 3, 'a')\n",
        "######################\n",
        "\n",
        "def func2(**kwargs):\n",
        "  print(kwargs)\n",
        "  print(type(kwargs)) # Dictionary\n",
        "func2(a=1, b=2, c=3, d='a')"
      ],
      "metadata": {
        "colab": {
          "base_uri": "https://localhost:8080/"
        },
        "id": "axCE1sBL1VYT",
        "outputId": "e46485c5-2a67-4024-b8b8-758a2055ea10"
      },
      "execution_count": 9,
      "outputs": [
        {
          "output_type": "stream",
          "name": "stdout",
          "text": [
            "1\n",
            "aa bb\n",
            "(1, 2, 3, 'a')\n",
            "<class 'tuple'>\n",
            "{'a': 1, 'b': 2, 'c': 3, 'd': 'a'}\n",
            "<class 'dict'>\n"
          ]
        }
      ]
    },
    {
      "cell_type": "code",
      "source": [
        "# Unpacking\n",
        "def printSum(a, b, c):\n",
        "  total = a + b + c\n",
        "  print(total)\n",
        "  return\n",
        "\n",
        "lst = [1, 2, 3]\n",
        "# printSum(lst) #Error\n",
        "printSum(*lst)\n",
        "\n",
        "dic = {'a':1, 'b':2, 'c':3}\n",
        "\n",
        "printSum(*dic) #key\n",
        "printSum(**dic) #value"
      ],
      "metadata": {
        "colab": {
          "base_uri": "https://localhost:8080/"
        },
        "id": "WLP1mwUm1lSu",
        "outputId": "d632acb8-f234-40b9-fedc-5fcb908a194c"
      },
      "execution_count": 12,
      "outputs": [
        {
          "output_type": "stream",
          "name": "stdout",
          "text": [
            "6\n",
            "abc\n",
            "6\n"
          ]
        }
      ]
    },
    {
      "cell_type": "code",
      "source": [
        "# __call__\n",
        "class HelloWorld():\n",
        "  def __init__(self):\n",
        "    pass\n",
        "helloworld = HelloWorld()\n",
        "# helloworld() #Error\n",
        "class HelloWorld():\n",
        "  def __init__(self):\n",
        "    pass\n",
        "  def __call__(self):\n",
        "    print(\"Hello world\")\n",
        "helloworld = HelloWorld()\n",
        "helloworld() # Hello world"
      ],
      "metadata": {
        "colab": {
          "base_uri": "https://localhost:8080/"
        },
        "id": "W94A5kb_2ciO",
        "outputId": "4e640863-bb6a-45a8-e939-d5859f45cf07"
      },
      "execution_count": 12,
      "outputs": [
        {
          "output_type": "stream",
          "name": "stdout",
          "text": [
            "Hello world\n"
          ]
        }
      ]
    },
    {
      "cell_type": "code",
      "source": [
        "class Module():\n",
        "  def __init__(self):\n",
        "    #Initialize\n",
        "    return\n",
        "  def __call__(self, *input, **kwargs):\n",
        "    ...\n",
        "    result = self.forward(*input, **kwargs)\n",
        "    return"
      ],
      "metadata": {
        "id": "vLphTXj3AWc0"
      },
      "execution_count": 13,
      "outputs": []
    },
    {
      "cell_type": "code",
      "source": [
        "import torch.nn as nn\n",
        "class Net(nn.Module):\n",
        "  def __init__(self):\n",
        "    super(Net, self).__init__() #use parant’s __init__ func.\n",
        "    self.conv1 = nn.Conv2d(1, 6, 3)\n",
        "    self.conv2 = nn.Conv2d(6, 16, 3)\n",
        "\n",
        "  def forward(self, x):\n",
        "    # Max pooling over a (2, 2) window\n",
        "    x = F.max_pool2d(F.relu(self.conv1(x)), (2, 2))\n",
        "    # If the size is a square you can only specify a single number\n",
        "    x = F.max_pool2d(F.relu(self.conv2(x)), 2)\n",
        "    return x\n",
        "\n",
        "net = Net()\n",
        "print(net)\n",
        "#net(inputData)"
      ],
      "metadata": {
        "colab": {
          "base_uri": "https://localhost:8080/"
        },
        "id": "67s-k0o4Adc-",
        "outputId": "83b172f4-361b-4deb-d53e-9c525ab6f781"
      },
      "execution_count": 15,
      "outputs": [
        {
          "output_type": "stream",
          "name": "stdout",
          "text": [
            "Net(\n",
            "  (conv1): Conv2d(1, 6, kernel_size=(3, 3), stride=(1, 1))\n",
            "  (conv2): Conv2d(6, 16, kernel_size=(3, 3), stride=(1, 1))\n",
            ")\n"
          ]
        }
      ]
    },
    {
      "cell_type": "markdown",
      "source": [
        "# Numpy"
      ],
      "metadata": {
        "id": "Yy-0zXjLeKM2"
      }
    },
    {
      "cell_type": "code",
      "source": [
        "import numpy as np\n",
        "a = np.array([1, 2, 3]) # rank가 1인 배열 생성\n",
        "print(type(a))\n",
        "print(a.shape)\n",
        "print(a.ndim)\n",
        "print(a[0], a[1], a[2])\n",
        "a[0]=5\n",
        "print(a)\n",
        "# 출력 \"<type 'numpy.ndarray'>\" # 출력 \"(3,)\"\n",
        "# 출력 \"1\" # 출력 \"1 2 3\"\n",
        "# 요소를 변경\n",
        "# 출력 \"[5, 2, 3]\"\n",
        "b = np.array([[1,2,3],[4,5,6]])\n",
        "print(b.shape)\n",
        "print(b.ndim)\n",
        "print(b[0, 0], b[0, 1], b[1, 0])\n",
        "# rank가 2인 배열 생성 # 출력 \"(2, 3)\"\n",
        "# 출력 \"2\"\n",
        "# 출력 \"1 2 4\""
      ],
      "metadata": {
        "colab": {
          "base_uri": "https://localhost:8080/"
        },
        "id": "ghwECQlvc1i_",
        "outputId": "ca484de5-54b5-4731-d35b-2f8b67422c9f"
      },
      "execution_count": 11,
      "outputs": [
        {
          "output_type": "stream",
          "name": "stdout",
          "text": [
            "<class 'numpy.ndarray'>\n",
            "(3,)\n",
            "1\n",
            "1 2 3\n",
            "[5 2 3]\n",
            "(2, 3)\n",
            "2\n",
            "1 2 4\n"
          ]
        }
      ]
    },
    {
      "cell_type": "code",
      "source": [
        "import numpy as np\n",
        "a = np.zeros((2,2)) # 모든 값이 0인 배열 생성 print(a) # 출력 \"[[ 0. 0.]\n",
        "# [0. 0.]]\"\n",
        "b = np.ones((1,2)) # 모든 값이 1인 배열 생성\n",
        "print(b) # 출력 \"[[ 1. 1.]]\"\n",
        "c = np.full((2,2), 7) # 모든 값이 특정 상수인 배열 생성\n",
        "print(c)\n",
        "d = np.eye(2)\n",
        "print(d)\n",
        "# 출력 \"[[ 7. 7.] # [ 7. 7.]]\"\n",
        "# 2x2 단위행렬 생성 # 출력 \"[[ 1. 0.]\n",
        "# [0. 1.]]\"\n",
        "e = np.random.random((2,2)) # 임의의 값으로 채워진 배열 생성\n",
        "print(e) # 임의의 값 출력 \"[[ 0.91940167 0.08143941]\n",
        "#                  [ 0.68744134  0.87236687]]\""
      ],
      "metadata": {
        "colab": {
          "base_uri": "https://localhost:8080/"
        },
        "id": "px8EvE2eeLiY",
        "outputId": "a67e0689-e983-4860-e55e-6a15f96636ba"
      },
      "execution_count": 12,
      "outputs": [
        {
          "output_type": "stream",
          "name": "stdout",
          "text": [
            "[[1. 1.]]\n",
            "[[7 7]\n",
            " [7 7]]\n",
            "[[1. 0.]\n",
            " [0. 1.]]\n",
            "[[0.14268792 0.37475622]\n",
            " [0.87472869 0.09331394]]\n"
          ]
        }
      ]
    },
    {
      "cell_type": "code",
      "source": [
        "import numpy as np\n",
        "# [[ 1 2 3 4]\n",
        "# [ 5 6 7 8]\n",
        "# [ 9 10 11 12]]\n",
        "a = np.array([[1,2,3,4], [5,6,7,8], [9,10,11,12]])\n",
        "# 슬라이싱을 이용하여 첫 두 행과 1열, 2열로 이루어진 부분배열 생성;\n",
        "# b는 shape가 (2,2)인 배열이 됨: # [[2 3]\n",
        "# [67]]\n",
        "b = a[:2, 1:3]\n",
        "print(a)\n",
        "print(b)\n",
        "# 슬라이싱된 배열은 원본 배열과 같은 데이터를 참조, 즉 슬라이싱된 배열을 수정하면\n",
        "# 원본 배열 역시 수정됨.\n",
        "print(a[0, 1])\n",
        "b[0, 0] = 77\n",
        "print(a[0, 1])\n",
        "# 출력 \"2\"\n",
        "# b[0, 0]은 a[0, 1]과 같은 데이터\n",
        "# 출력 \"77\"\n",
        "print(a)\n",
        "print(b)"
      ],
      "metadata": {
        "colab": {
          "base_uri": "https://localhost:8080/"
        },
        "id": "jE4IWttwedsb",
        "outputId": "5dc07599-d4d5-4bb9-a1e1-f7addbdee64e"
      },
      "execution_count": 17,
      "outputs": [
        {
          "output_type": "stream",
          "name": "stdout",
          "text": [
            "[[ 1  2  3  4]\n",
            " [ 5  6  7  8]\n",
            " [ 9 10 11 12]]\n",
            "[[2 3]\n",
            " [6 7]]\n",
            "2\n",
            "77\n",
            "[[ 1 77  3  4]\n",
            " [ 5  6  7  8]\n",
            " [ 9 10 11 12]]\n",
            "[[77  3]\n",
            " [ 6  7]]\n"
          ]
        }
      ]
    },
    {
      "cell_type": "code",
      "source": [
        "import numpy as np\n",
        "# [[ 1 2 3 4]\n",
        "# [ 5 6 7 8]\n",
        "# [ 9 10 11 12]]\n",
        "a = np.array([[1,2,3,4], [5,6,7,8], [9,10,11,12]])\n",
        "b = np.reshape(a, (2, 6))\n",
        "print(b)\n",
        "#b = a.reshape(2, 6) # Equivalent Function\n",
        "# 슬라이싱된 배열은 원본 배열과 같은 데이터를 참조, 즉 슬라이싱된 배열을 수정하면 # 원본 배열 역시 수정됨.\n",
        "print(b[0, 0])\n",
        "b[0, 0] = 77\n",
        "print(a[0, 0])\n",
        "# 출력 \"2\"\n",
        "# b[0, 0]은 a[0, 0]과 같은 데이터\n",
        "# 출력 \"77\""
      ],
      "metadata": {
        "colab": {
          "base_uri": "https://localhost:8080/"
        },
        "id": "kuPdgKL7fubd",
        "outputId": "65df202a-dc34-458d-fdce-96c971398676"
      },
      "execution_count": 17,
      "outputs": [
        {
          "output_type": "stream",
          "name": "stdout",
          "text": [
            "[[ 1  2  3  4  5  6]\n",
            " [ 7  8  9 10 11 12]]\n",
            "1\n",
            "77\n"
          ]
        }
      ]
    },
    {
      "cell_type": "markdown",
      "source": [
        "# Exercise\n",
        "- Q1. Create a vector with values ranging from 10 to 49 (ex. 10, 11, ... 49)\n",
        "- Q2. Create a vector with values ranging from 49 to 10 (ex. 49, 48, ... 10)\n",
        "- Q3. Get the positions where elements of 'a' and 'b' match? (Hint: np.where) Input)\n",
        "- Q4. Add 1 to matrix ‘a’ (Hint: Broadcast) \n",
        "- Q5. Swap rows 1 and 2 in the array 'a’ at Q4(HARD)\n",
        "- Q6. Remove Negative values in the array ‘b’ (HARD, Hint: np.where)"
      ],
      "metadata": {
        "id": "13eyvPTPg_pP"
      }
    },
    {
      "cell_type": "code",
      "source": [
        "# Q.1\n",
        "print(np.arange(10,50))\n",
        "\n",
        "# Q.2\n",
        "print(np.arange(10,50,-1))\n",
        "#print(np.arange(10,50)[::-1])\n",
        "\n",
        "# Q.3\n",
        "a = np.array([1,2,3,2,3,4,3,4,5,6])\n",
        "b = np.array([7,2,10,2,7,4,9,4,9,8])\n",
        "print(np.where(a==b))\n",
        "#Output: => array([1, 3, 5, 7])\n",
        "\n",
        "a = np.arange(9).reshape(3,3)\n",
        "# Q.4\n",
        "print(a+1)\n",
        "\n",
        "# Q.5\n",
        "print(a[[1,0,2],:])\n",
        "\n",
        "# Q.6\n",
        "a = np.array((3,-2,2,-1,3))\n",
        "print(a[np.where(a>=0)])"
      ],
      "metadata": {
        "colab": {
          "base_uri": "https://localhost:8080/"
        },
        "id": "HiVn2rOwgidp",
        "outputId": "2272b108-0f48-4560-b4f0-6fff51c65bb1"
      },
      "execution_count": 20,
      "outputs": [
        {
          "output_type": "stream",
          "name": "stdout",
          "text": [
            "[10 11 12 13 14 15 16 17 18 19 20 21 22 23 24 25 26 27 28 29 30 31 32 33\n",
            " 34 35 36 37 38 39 40 41 42 43 44 45 46 47 48 49]\n",
            "[]\n",
            "(array([1, 3, 5, 7]),)\n",
            "[[1 2 3]\n",
            " [4 5 6]\n",
            " [7 8 9]]\n",
            "[[3 4 5]\n",
            " [0 1 2]\n",
            " [6 7 8]]\n",
            "[3 2 3]\n"
          ]
        }
      ]
    },
    {
      "cell_type": "markdown",
      "source": [
        "# Tensor\n",
        "\n",
        "numpy만으로는 GPU에 올릴 수 없다."
      ],
      "metadata": {
        "id": "SSzdUSImiKN0"
      }
    },
    {
      "cell_type": "code",
      "source": [
        "import torch\n",
        "import numpy as np\n",
        "t1 = torch.FloatTensor([0, 1, 2, 3, 4, 5, 6])\n",
        "t2 = torch.tensor(np.arange(7)) #Same\n",
        "print(t1.shape, t2.shape)\n",
        "print(t1.dim())\n",
        "print(t1.shape)\n",
        "print(t1.size())\n",
        "print(t1[:2], t1[3:])"
      ],
      "metadata": {
        "colab": {
          "base_uri": "https://localhost:8080/"
        },
        "id": "Qk37H_njhmQ5",
        "outputId": "87a69356-f5b8-4b08-b1e1-6332921452e9"
      },
      "execution_count": 22,
      "outputs": [
        {
          "output_type": "stream",
          "name": "stdout",
          "text": [
            "torch.Size([7]) torch.Size([7])\n",
            "1\n",
            "torch.Size([7])\n",
            "torch.Size([7])\n",
            "tensor([0., 1.]) tensor([3., 4., 5., 6.])\n"
          ]
        }
      ]
    },
    {
      "cell_type": "code",
      "source": [
        "# Broadcasting\n",
        "\n",
        "import torch\n",
        "import numpy as np\n",
        "m1 = torch.FloatTensor([[3, 3]])\n",
        "m2 = torch.FloatTensor([[2, 2]])\n",
        "print(m1 + m2)\n",
        "\n",
        "# Vector + scalar\n",
        "m1 = torch.FloatTensor([[1, 2]])\n",
        "m2 = torch.FloatTensor([3]) # 3 -> [[3, 3]]\n",
        "#m2 = torch.FloatTensor(3) # 3 -> Error\n",
        "#m2 = torch.FloatTensor([3,0]) # 3 -> Error // 원래 의도한 바.\n",
        "print(m1 + m2)\n",
        "\n",
        "# 2 x 1 Vector + 1 x 2 Vector\n",
        "m1 = torch.FloatTensor([[1, 2]])\n",
        "m2 = torch.FloatTensor([[3], [4]])\n",
        "print(m1 + m2)"
      ],
      "metadata": {
        "colab": {
          "base_uri": "https://localhost:8080/"
        },
        "id": "yWn_Y4tGiNH-",
        "outputId": "bfdd82f4-88ab-4e95-d89f-f1f919b8168c"
      },
      "execution_count": 28,
      "outputs": [
        {
          "output_type": "stream",
          "name": "stdout",
          "text": [
            "tensor([[5., 5.]])\n",
            "tensor([[4., 5.]])\n",
            "tensor([[4., 5.],\n",
            "        [5., 6.]])\n"
          ]
        }
      ]
    },
    {
      "cell_type": "code",
      "source": [
        "#Mul vs MatMul\n",
        "print('-------------')\n",
        "print('Mul vs Matmul')\n",
        "print('-------------')\n",
        "m1 = torch.FloatTensor([[1, 2], [3, 4]])\n",
        "m2 = torch.FloatTensor([[1], [2]])\n",
        "print('Shape of Matrix 1: ', m1.shape) # 2 x 2\n",
        "print('Shape of Matrix 2: ', m2.shape) # 2 x 1\n",
        "print(m1.matmul(m2)) # 2 x 1\n",
        "\n",
        "m1 = torch.FloatTensor([[1, 2], [3, 4]])\n",
        "m2 = torch.FloatTensor([[1], [2]])\n",
        "print('Shape of Matrix 1: ', m1.shape) # 2 x 2\n",
        "print('Shape of Matrix 2: ', m2.shape) # 2 x 1\n",
        "print(m1 * m2) # 2 x 2\n",
        "print(m1.mul(m2))"
      ],
      "metadata": {
        "colab": {
          "base_uri": "https://localhost:8080/"
        },
        "id": "0_ZR5VOji_Vi",
        "outputId": "7b781d86-b318-439b-8790-3193696c089a"
      },
      "execution_count": 31,
      "outputs": [
        {
          "output_type": "stream",
          "name": "stdout",
          "text": [
            "-------------\n",
            "Mul vs Matmul\n",
            "-------------\n",
            "Shape of Matrix 1:  torch.Size([2, 2])\n",
            "Shape of Matrix 2:  torch.Size([2, 1])\n",
            "tensor([[ 5.],\n",
            "        [11.]])\n",
            "Shape of Matrix 1:  torch.Size([2, 2])\n",
            "Shape of Matrix 2:  torch.Size([2, 1])\n",
            "tensor([[1., 2.],\n",
            "        [6., 8.]])\n",
            "tensor([[1., 2.],\n",
            "        [6., 8.]])\n"
          ]
        }
      ]
    },
    {
      "cell_type": "code",
      "source": [
        "import torch\n",
        "import numpy as np\n",
        "t = torch.FloatTensor([[1, 2], [3, 4]]) #torch.tensor is not work. Long Tensor...\n",
        "print(t.type())\n",
        "print(t)\n",
        "print(t.mean()) # 모든 값에 대한 평균\n",
        "print(t.mean(dim=0)) # Remove Dim 0 // 바깥의 차원에서 계산해줘.\n",
        "print(t.mean(dim=1))\n",
        "print(t.mean(dim=-1))"
      ],
      "metadata": {
        "colab": {
          "base_uri": "https://localhost:8080/"
        },
        "id": "j0tv1C2pjnPa",
        "outputId": "fd22b2fe-11f6-4158-db75-3caa1b4675ad"
      },
      "execution_count": 32,
      "outputs": [
        {
          "output_type": "stream",
          "name": "stdout",
          "text": [
            "torch.FloatTensor\n",
            "tensor([[1., 2.],\n",
            "        [3., 4.]])\n",
            "tensor(2.5000)\n",
            "tensor([2., 3.])\n",
            "tensor([1.5000, 3.5000])\n",
            "tensor([1.5000, 3.5000])\n"
          ]
        }
      ]
    },
    {
      "cell_type": "code",
      "source": [
        "import torch\n",
        "import numpy as np\n",
        "t = np.arange(12).reshape(-1, 2, 3) # -1은 알아서서 들어감. // -1은 batch size, 2는 텍스트 길이,3은 임베딩 길이로 일반적으로 사용함.\n",
        "print(t.shape)\n",
        "floatT = torch.FloatTensor(t)\n",
        "print(floatT.shape)\n",
        "print(floatT)\n",
        "print(floatT.view([-1, 3]))\n",
        "print(floatT.view([-1, 4]))\n",
        "print(floatT.shape)"
      ],
      "metadata": {
        "colab": {
          "base_uri": "https://localhost:8080/"
        },
        "id": "FXdwC1o2kukW",
        "outputId": "4ed7ed6c-7a2c-46a9-c9f0-4497a67329ec"
      },
      "execution_count": 36,
      "outputs": [
        {
          "output_type": "stream",
          "name": "stdout",
          "text": [
            "(2, 2, 3)\n",
            "torch.Size([2, 2, 3])\n",
            "tensor([[[ 0.,  1.,  2.],\n",
            "         [ 3.,  4.,  5.]],\n",
            "\n",
            "        [[ 6.,  7.,  8.],\n",
            "         [ 9., 10., 11.]]])\n",
            "tensor([[ 0.,  1.,  2.],\n",
            "        [ 3.,  4.,  5.],\n",
            "        [ 6.,  7.,  8.],\n",
            "        [ 9., 10., 11.]])\n",
            "tensor([[ 0.,  1.,  2.,  3.],\n",
            "        [ 4.,  5.,  6.,  7.],\n",
            "        [ 8.,  9., 10., 11.]])\n",
            "torch.Size([2, 2, 3])\n"
          ]
        }
      ]
    },
    {
      "cell_type": "markdown",
      "source": [
        "# Practice"
      ],
      "metadata": {
        "id": "6dc_Vnzgl4hz"
      }
    },
    {
      "cell_type": "code",
      "source": [
        "import torch\n",
        "t = np.arange(24)\n",
        "print(t.shape)\n",
        "floatT = torch.FloatTensor(t)\n",
        "# print(floatT.view([-1, 2, 3]))\n",
        "print(floatT.view([-1, 2, 3])[2:4,:,1])"
      ],
      "metadata": {
        "colab": {
          "base_uri": "https://localhost:8080/"
        },
        "id": "Y59WK4-7lT_V",
        "outputId": "42db9c85-bac0-43fe-f8eb-225b3a0b03bb"
      },
      "execution_count": 25,
      "outputs": [
        {
          "output_type": "stream",
          "name": "stdout",
          "text": [
            "(24,)\n",
            "tensor([[[ 0.,  1.,  2.],\n",
            "         [ 3.,  4.,  5.]],\n",
            "\n",
            "        [[ 6.,  7.,  8.],\n",
            "         [ 9., 10., 11.]],\n",
            "\n",
            "        [[12., 13., 14.],\n",
            "         [15., 16., 17.]],\n",
            "\n",
            "        [[18., 19., 20.],\n",
            "         [21., 22., 23.]]])\n",
            "tensor([[13., 16.],\n",
            "        [19., 22.]])\n"
          ]
        }
      ]
    },
    {
      "cell_type": "markdown",
      "source": [
        "# Linear Regression"
      ],
      "metadata": {
        "id": "A73meXCQm1iL"
      }
    },
    {
      "cell_type": "code",
      "source": [
        "import torch\n",
        "import torch.nn as nn\n",
        "import torch.nn.functional as F\n",
        "import torch.optim as optim\n",
        "x_train = torch.FloatTensor([[1], [2], [3]])\n",
        "y_train = torch.FloatTensor([[2], [3], [4]])\n",
        "\n",
        "# 모델 초기화\n",
        "W = torch.zeros(1, requires_grad=True)\n",
        "b = torch.zeros(1, requires_grad=True)\n",
        "\n",
        "# optimizer 설정\n",
        "optimizer = optim.SGD([W, b], lr=0.01)\n",
        "\n",
        "nb_epochs = 1000\n",
        "\n",
        "# x와 y를 만족하는 Weight와 bias를 찾아라. 러닝 레이트는 0.01로 해라.\n",
        "# epochs는 1000번 해라.\n",
        "\n",
        "# 중요한 것 : x,y(데이터) 와 optimizer ,model 어떻게 쓸 것인가."
      ],
      "metadata": {
        "id": "yHsP9vAol8bk"
      },
      "execution_count": 30,
      "outputs": []
    },
    {
      "cell_type": "code",
      "source": [
        "for epoch in range(nb_epochs + 1): # H(x) 계산\n",
        "  hypothesis = x_train * W + b\n",
        "# cost 계산\n",
        "  cost = torch.mean((hypothesis - y_train) ** 2)\n",
        "# cost로 H(x) 개선\n",
        "  optimizer.zero_grad() # optimizer를 0으로 초기화 시킨다.\n",
        "  cost.backward()\n",
        "  optimizer.step()\n",
        "# 100번마다 로그 출력\n",
        "  if epoch % 100 == 0:\n",
        "    print('Epoch {:4d}/{} W: {:.3f}, b: {:.3f} Cost: {:.6f}'.format( epoch, nb_epochs, W.item(), b.item(), cost.item()))\n",
        "\n",
        "# 나의 모델은 hypothesis이고, 값을 넣은 값과 MSE를 구한다.\n",
        "# Backpropagation 후 optimization한다."
      ],
      "metadata": {
        "colab": {
          "base_uri": "https://localhost:8080/"
        },
        "id": "snDwx0PXnDPK",
        "outputId": "cc6aceca-3dec-462a-b9a2-2422803b5206"
      },
      "execution_count": 31,
      "outputs": [
        {
          "output_type": "stream",
          "name": "stdout",
          "text": [
            "Epoch    0/1000 W: 0.133, b: 0.060 Cost: 9.666667\n",
            "Epoch  100/1000 W: 1.162, b: 0.632 Cost: 0.019523\n",
            "Epoch  200/1000 W: 1.127, b: 0.711 Cost: 0.012064\n",
            "Epoch  300/1000 W: 1.100, b: 0.773 Cost: 0.007455\n",
            "Epoch  400/1000 W: 1.079, b: 0.821 Cost: 0.004607\n",
            "Epoch  500/1000 W: 1.062, b: 0.859 Cost: 0.002847\n",
            "Epoch  600/1000 W: 1.049, b: 0.890 Cost: 0.001759\n",
            "Epoch  700/1000 W: 1.038, b: 0.913 Cost: 0.001087\n",
            "Epoch  800/1000 W: 1.030, b: 0.932 Cost: 0.000672\n",
            "Epoch  900/1000 W: 1.024, b: 0.946 Cost: 0.000415\n",
            "Epoch 1000/1000 W: 1.019, b: 0.958 Cost: 0.000256\n"
          ]
        }
      ]
    },
    {
      "cell_type": "markdown",
      "source": [
        "# Practice"
      ],
      "metadata": {
        "id": "-b1pnoY-nXZ1"
      }
    },
    {
      "cell_type": "code",
      "source": [
        "x_train = torch.FloatTensor([[73, 80, 75], [93, 88, 93], [89, 91, 90], [96, 98, 100], [73, 66, 70]])\n",
        "y_train = torch.FloatTensor([[152], [185], [180], [196], [142]])\n",
        "# Train This values!!\n",
        "# Tip: Learning rate should be less than 1e-5\n",
        "\n",
        "# 내가 가지고있는 Data가, 3차원이 나오도록 학습을 해라."
      ],
      "metadata": {
        "id": "Vzt_51oknSln"
      },
      "execution_count": 32,
      "outputs": []
    },
    {
      "cell_type": "code",
      "source": [
        "import torch\n",
        "import torch.nn as nn\n",
        "import torch.nn.functional as F\n",
        "import torch.optim as optim\n",
        "x_train = torch.FloatTensor([[73, 80, 75], [93, 88, 93], [89, 91, 90], [96, 98, 100], [73, 66, 70]])\n",
        "y_train = torch.FloatTensor([[152], [185], [180], [196], [142]])\n",
        "# 모델 초기화\n",
        "W = torch.zeros((3, 1), requires_grad=True)\n",
        "b = torch.zeros(1, requires_grad=True)\n",
        "# optimizer 설정\n",
        "optimizer = optim.SGD([W, b], lr=1e-5) # Learning rate should be small"
      ],
      "metadata": {
        "id": "cf3FN5NUnY3B"
      },
      "execution_count": 33,
      "outputs": []
    },
    {
      "cell_type": "code",
      "source": [
        "nb_epochs = 1000\n",
        "for epoch in range(nb_epochs + 1):\n",
        "  # H(x) 계산\n",
        "  hypothesis = x_train.matmul(W) + b # Not X * W!!\n",
        "  # cost 계산\n",
        "  # cost = torch.mean((hypothesis - y_train) ** 2)\n",
        "  cost = F.mse_loss(hypothesis, y_train) # Torch는 다양한 Loss Function 지원\n",
        "  # cost로 H(x) 개선\n",
        "  optimizer.zero_grad() # 초기화\n",
        "  cost.backward()\n",
        "  optimizer.step()\n",
        "  # 100번마다 로그 출력\n",
        "  if epoch % 100 == 0:\n",
        "    print('Epoch {:4d}/{} Cost: {:.6f}'.format(epoch, nb_epochs, cost.item())) # item() get one single value))"
      ],
      "metadata": {
        "colab": {
          "base_uri": "https://localhost:8080/"
        },
        "id": "5y3NE2IOnjtA",
        "outputId": "7bddc522-3242-42c8-87a6-f7ac33dfe13e"
      },
      "execution_count": 34,
      "outputs": [
        {
          "output_type": "stream",
          "name": "stdout",
          "text": [
            "Epoch    0/1000 Cost: 29661.800781\n",
            "Epoch  100/1000 Cost: 1.563628\n",
            "Epoch  200/1000 Cost: 1.497595\n",
            "Epoch  300/1000 Cost: 1.435044\n",
            "Epoch  400/1000 Cost: 1.375726\n",
            "Epoch  500/1000 Cost: 1.319507\n",
            "Epoch  600/1000 Cost: 1.266222\n",
            "Epoch  700/1000 Cost: 1.215703\n",
            "Epoch  800/1000 Cost: 1.167810\n",
            "Epoch  900/1000 Cost: 1.122429\n",
            "Epoch 1000/1000 Cost: 1.079390\n"
          ]
        }
      ]
    },
    {
      "cell_type": "code",
      "source": [
        "# 데이터\n",
        "x_train = torch.FloatTensor([[73, 80, 75],\n",
        "[93, 88, 93], [89, 91, 90], [96, 98, 100], [73, 66, 70]])\n",
        "mu = x_train.mean(dim=0)\n",
        "sigma = x_train.std(dim=0)\n",
        "norm_x_train = (x_train - mu) / sigma\n",
        "print(norm_x_train)"
      ],
      "metadata": {
        "colab": {
          "base_uri": "https://localhost:8080/"
        },
        "id": "huWFhIDRnpOj",
        "outputId": "8a74fcbb-5cde-49cd-adcf-a95f4409ed33"
      },
      "execution_count": 63,
      "outputs": [
        {
          "output_type": "stream",
          "name": "stdout",
          "text": [
            "tensor([[-1.0674, -0.3758, -0.8398],\n",
            "        [ 0.7418,  0.2778,  0.5863],\n",
            "        [ 0.3799,  0.5229,  0.3486],\n",
            "        [ 1.0132,  1.0948,  1.1409],\n",
            "        [-1.0674, -1.5197, -1.2360]])\n"
          ]
        }
      ]
    },
    {
      "cell_type": "code",
      "source": [
        "W = torch.zeros((3, 1), requires_grad=True)\n",
        "b = torch.zeros(1, requires_grad=True)"
      ],
      "metadata": {
        "id": "0zArfJHjqBWA"
      },
      "execution_count": 35,
      "outputs": []
    },
    {
      "cell_type": "code",
      "source": [
        "import torch\n",
        "import torch.nn as nn\n",
        "import torch.nn.functional as F\n",
        "import torch.optim as optim\n",
        "class MultivariateLinearRegressionModel(nn.Module):\n",
        "  def __init__(self):\n",
        "        super().__init__()\n",
        "        self.linear = nn.Linear(3, 1)\n",
        "  def forward(self, x):\n",
        "    return self.linear(x)"
      ],
      "metadata": {
        "id": "oOuYvO60qfnQ"
      },
      "execution_count": 36,
      "outputs": []
    },
    {
      "cell_type": "code",
      "source": [
        "# 데이터\n",
        "x_train = torch.FloatTensor([[73, 80, 75],\n",
        "[93, 88, 93], [89, 91, 90], [96, 98, 100], [73, 66, 70]])\n",
        "y_train = torch.FloatTensor([[152], [185], [180], [196], [142]]) # 모델 초기화\n",
        "model = MultivariateLinearRegressionModel()\n",
        "# optimizer 설정\n",
        "optimizer = optim.SGD(model.parameters(), lr=1e-5)"
      ],
      "metadata": {
        "id": "j2btEmd3qlgB"
      },
      "execution_count": 37,
      "outputs": []
    },
    {
      "cell_type": "code",
      "source": [
        "nb_epochs = 20\n",
        "for epoch in range(nb_epochs + 1):\n",
        "  # H(x) 계산\n",
        "  prediction = model(x_train)\n",
        "  # cost 계산\n",
        "  cost = F.mse_loss(prediction, y_train)\n",
        "  # cost로 H(x) 개선 optimizer.zero_grad()\n",
        "  cost.backward()\n",
        "  optimizer.step()\n",
        "  # 20번마다 로그 출력\n",
        "  print('Epoch {:4d}/{} Cost: {:.6f}'.format(epoch, nb_epochs, cost.item()))"
      ],
      "metadata": {
        "colab": {
          "base_uri": "https://localhost:8080/"
        },
        "id": "U_QQ2gsCrML8",
        "outputId": "2cae5f16-d298-4285-f332-872f75fc2382"
      },
      "execution_count": 38,
      "outputs": [
        {
          "output_type": "stream",
          "name": "stdout",
          "text": [
            "Epoch    0/20 Cost: 44996.351562\n",
            "Epoch    1/20 Cost: 14109.037109\n",
            "Epoch    2/20 Cost: 729.464844\n",
            "Epoch    3/20 Cost: 25821.099609\n",
            "Epoch    4/20 Cost: 50069.687500\n",
            "Epoch    5/20 Cost: 35481.867188\n",
            "Epoch    6/20 Cost: 4914.197754\n",
            "Epoch    7/20 Cost: 6260.877441\n",
            "Epoch    8/20 Cost: 37411.843750\n",
            "Epoch    9/20 Cost: 49558.894531\n",
            "Epoch   10/20 Cost: 23669.646484\n",
            "Epoch   11/20 Cost: 308.010193\n",
            "Epoch   12/20 Cost: 16077.546875\n",
            "Epoch   13/20 Cost: 46270.054688\n",
            "Epoch   14/20 Cost: 43579.039062\n",
            "Epoch   15/20 Cost: 12220.777344\n",
            "Epoch   16/20 Cost: 1328.129639\n",
            "Epoch   17/20 Cost: 27967.906250\n",
            "Epoch   18/20 Cost: 50400.097656\n",
            "Epoch   19/20 Cost: 33477.253906\n",
            "Epoch   20/20 Cost: 3714.424316\n"
          ]
        }
      ]
    },
    {
      "cell_type": "code",
      "source": [
        "# CNN 예시\n",
        "\n",
        "import torch\n",
        "import torch.nn as nn\n",
        "import torch.nn.functional as F\n",
        "\n",
        "class CNN(nn.Module):\n",
        "  def __init__(self):\n",
        "    super(CNN, self).__init__()\n",
        "    self.conv1 = nn.Conv2d(in_channels=1, out_channels=3, kernel_size=5, stride=1)\n",
        "    self.conv2 = nn.Conv2d(in_channels=3, out_channels=10, kernel_size=5, stride=1)\n",
        "    self.fc1 = nn.Linear(10 * 12 * 12, 50)\n",
        "    self.fc2 = nn.Linear(50,10)\n",
        "\n",
        "  def forward(self, x):\n",
        "    print(\"연산 전\", x.size())\n",
        "    x = F.relu(self.conv1(x))\n",
        "    print(\"conv1 연산 후\", x.size())\n",
        "    x = F.relu(self.conv2(x))\n",
        "    print(\"conv2 연산 후\", x.size())\n",
        "    x = x.view(-1, 10 * 12 * 12)\n",
        "    print(\"차원 감소 후\", x.size())\n",
        "    x = F.relu(self.fc1(x))\n",
        "    print(\"fc1 연산 후\", x.size())\n",
        "    x = F.relu(self.fc2(x))\n",
        "    print(\"fc2 연산 후\", x.size())\n",
        "    return x\n",
        "cnn = CNN()\n",
        "output = cnn(torch.randn(10, 1, 20, 20)) # Input Size : (10, 1, 20, 20)\n",
        "    "
      ],
      "metadata": {
        "colab": {
          "base_uri": "https://localhost:8080/"
        },
        "id": "AC6I2u1efNat",
        "outputId": "5e9e67e3-ac99-4989-c17f-2615d039aef5"
      },
      "execution_count": 40,
      "outputs": [
        {
          "output_type": "stream",
          "name": "stdout",
          "text": [
            "연산 전 torch.Size([10, 1, 20, 20])\n",
            "conv1 연산 후 torch.Size([10, 3, 16, 16])\n",
            "conv2 연산 후 torch.Size([10, 10, 12, 12])\n",
            "차원 감소 후 torch.Size([10, 1440])\n",
            "fc1 연산 후 torch.Size([10, 50])\n",
            "fc2 연산 후 torch.Size([10, 10])\n"
          ]
        }
      ]
    },
    {
      "cell_type": "code",
      "source": [],
      "metadata": {
        "id": "cot7t8x6jMTn"
      },
      "execution_count": null,
      "outputs": []
    },
    {
      "cell_type": "markdown",
      "source": [
        "# GPU"
      ],
      "metadata": {
        "id": "VY8nvM59sRt6"
      }
    },
    {
      "cell_type": "code",
      "source": [
        "import torch\n",
        "import numpy as np\n",
        "device = torch.device('cuda' if torch.cuda.is_available() else 'cpu')\n",
        "print(device)\n",
        "#net = Model.to(device)\n",
        "#inputs = data.to(device)"
      ],
      "metadata": {
        "colab": {
          "base_uri": "https://localhost:8080/"
        },
        "id": "zBXIFgC5sElP",
        "outputId": "f0f04849-e14a-4924-bfa8-d75f7853749d"
      },
      "execution_count": 39,
      "outputs": [
        {
          "output_type": "stream",
          "name": "stdout",
          "text": [
            "cuda\n"
          ]
        }
      ]
    },
    {
      "cell_type": "code",
      "source": [
        "#"
      ],
      "metadata": {
        "id": "GX1kFuEmsU9a"
      },
      "execution_count": null,
      "outputs": []
    }
  ]
}