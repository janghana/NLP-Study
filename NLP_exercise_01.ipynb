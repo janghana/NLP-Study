{
  "nbformat": 4,
  "nbformat_minor": 0,
  "metadata": {
    "colab": {
      "provenance": []
    },
    "kernelspec": {
      "name": "python3",
      "display_name": "Python 3"
    },
    "language_info": {
      "name": "python"
    }
  },
  "cells": [
    {
      "cell_type": "markdown",
      "source": [
        "# Q.1\n",
        "아래 출력값을 갖도록 a 변수값을 설정 (Hint: np.arange(n) 활용)"
      ],
      "metadata": {
        "id": "V6wknBPTVL4I"
      }
    },
    {
      "cell_type": "code",
      "source": [
        "#a = ??\n",
        "import torch\n",
        "import numpy as np\n",
        "\n",
        "a = np.arange(24).reshape(2,3,4)\n",
        "\n",
        "print(\"Shape :\", a.shape)\n",
        "print(\"Value :\", a)"
      ],
      "metadata": {
        "colab": {
          "base_uri": "https://localhost:8080/"
        },
        "id": "rd0_sOqgVMJB",
        "outputId": "b375382a-7d3c-4789-8f55-444524b6046c"
      },
      "execution_count": null,
      "outputs": [
        {
          "output_type": "stream",
          "name": "stdout",
          "text": [
            "Shape : (2, 3, 4)\n",
            "Value : [[[ 0  1  2  3]\n",
            "  [ 4  5  6  7]\n",
            "  [ 8  9 10 11]]\n",
            "\n",
            " [[12 13 14 15]\n",
            "  [16 17 18 19]\n",
            "  [20 21 22 23]]]\n"
          ]
        }
      ]
    },
    {
      "cell_type": "markdown",
      "source": [
        "\n",
        "#Output\n",
        "Shape : (2,3,4)\n",
        "- Value : [[[ 0 1 2 3]\n",
        "- [ 4 5 6 7]\n",
        "- [8 9 10 11]\n",
        "\n",
        "- [[12 13 14 15]\n",
        "- [16 17 18 19]\n",
        "*이탤릭체 텍스트*- [20 21 22 23]]]"
      ],
      "metadata": {
        "id": "6i0W2ULrWjPv"
      }
    },
    {
      "cell_type": "markdown",
      "source": [
        "# Q.2\n",
        "Exercise 1의 a값과 slicing을 통해, 다음 두 값을 출력"
      ],
      "metadata": {
        "id": "KkhTqlA-bmsp"
      }
    },
    {
      "cell_type": "code",
      "source": [
        "#print(a[???]) #Problem1\n",
        "#print(a[???]) #Problem2\n",
        "\n",
        "print(a[0,1:3,2:4]) #Problem1\n",
        "print(np.reshape(a[0,1:3,2:4], (1,2,2))) #Problem2"
      ],
      "metadata": {
        "colab": {
          "base_uri": "https://localhost:8080/"
        },
        "id": "L1pDx-4gWTsT",
        "outputId": "b0fa5320-c74d-430b-cc39-fd16d8052fa0"
      },
      "execution_count": null,
      "outputs": [
        {
          "output_type": "stream",
          "name": "stdout",
          "text": [
            "[[ 6  7]\n",
            " [10 11]]\n",
            "[[[ 6  7]\n",
            "  [10 11]]]\n"
          ]
        }
      ]
    },
    {
      "cell_type": "markdown",
      "source": [
        "# Q.3\n",
        "test.csv 데이터를 활용하여, 70, 80, 90에 대한 Total Score 구하기 (nn.Module 활용) *Hint: numpy genfromtext 활용"
      ],
      "metadata": {
        "id": "ruyakuAGcGIE"
      }
    },
    {
      "cell_type": "code",
      "source": [
        "data = open('test.csv', 'r')\n",
        "print(data)"
      ],
      "metadata": {
        "id": "2X2ngsSsaMtd",
        "colab": {
          "base_uri": "https://localhost:8080/"
        },
        "outputId": "6638f4ee-c817-4674-d04d-d13568601c1f"
      },
      "execution_count": null,
      "outputs": [
        {
          "output_type": "stream",
          "name": "stdout",
          "text": [
            "<_io.TextIOWrapper name='test.csv' mode='r' encoding='UTF-8'>\n"
          ]
        }
      ]
    },
    {
      "cell_type": "code",
      "source": [
        "import csv\n",
        "\n",
        "with open('test.csv' , 'r') as f :\n",
        "    dat = [k for k in csv.reader(f)]\n",
        "print(dat)"
      ],
      "metadata": {
        "colab": {
          "base_uri": "https://localhost:8080/"
        },
        "id": "Xz7fEuJgtz1_",
        "outputId": "e32c7c47-811f-4d97-fd9c-4aee8f7282b1"
      },
      "execution_count": null,
      "outputs": [
        {
          "output_type": "stream",
          "name": "stdout",
          "text": [
            "[['73', '80', '75', '152'], ['93', '88', '93', '185'], ['89', '91', '90', '180'], ['96', '98', '100', '196'], ['73', '66', '70', '142'], ['53', '46', '55', '101'], ['69', '74', '77', '149'], ['47', '56', '60', '115'], ['87', '79', '90', '175'], ['79', '70', '88', '164'], ['69', '70', '73', '141'], ['70', '65', '74', '141'], ['93', '95', '91', '184'], ['79', '80', '73', '152'], ['70', '73', '78', '148'], ['93', '89', '96', '192'], ['78', '75', '68', '147'], ['81', '90', '93', '183'], ['88', '92', '86', '177'], ['78', '83', '77', '159'], ['82', '86', '90', '177'], ['86', '82', '89', '175'], ['78', '83', '85', '175'], ['76', '83', '71', '149'], ['96', '93', '95', '192']]\n"
          ]
        }
      ]
    },
    {
      "cell_type": "code",
      "source": [
        "import numpy as np\n",
        "\n",
        "data = np.loadtxt('test.csv' , delimiter=',' , skiprows = 1, dtype=float)\n",
        "print(data)"
      ],
      "metadata": {
        "colab": {
          "base_uri": "https://localhost:8080/"
        },
        "id": "Jgepixj-usqO",
        "outputId": "221222c4-169e-433e-b00d-54e15accb997"
      },
      "execution_count": null,
      "outputs": [
        {
          "output_type": "stream",
          "name": "stdout",
          "text": [
            "[[ 93.  88.  93. 185.]\n",
            " [ 89.  91.  90. 180.]\n",
            " [ 96.  98. 100. 196.]\n",
            " [ 73.  66.  70. 142.]\n",
            " [ 53.  46.  55. 101.]\n",
            " [ 69.  74.  77. 149.]\n",
            " [ 47.  56.  60. 115.]\n",
            " [ 87.  79.  90. 175.]\n",
            " [ 79.  70.  88. 164.]\n",
            " [ 69.  70.  73. 141.]\n",
            " [ 70.  65.  74. 141.]\n",
            " [ 93.  95.  91. 184.]\n",
            " [ 79.  80.  73. 152.]\n",
            " [ 70.  73.  78. 148.]\n",
            " [ 93.  89.  96. 192.]\n",
            " [ 78.  75.  68. 147.]\n",
            " [ 81.  90.  93. 183.]\n",
            " [ 88.  92.  86. 177.]\n",
            " [ 78.  83.  77. 159.]\n",
            " [ 82.  86.  90. 177.]\n",
            " [ 86.  82.  89. 175.]\n",
            " [ 78.  83.  85. 175.]\n",
            " [ 76.  83.  71. 149.]\n",
            " [ 96.  93.  95. 192.]]\n"
          ]
        }
      ]
    },
    {
      "cell_type": "code",
      "source": [
        "print(\"total score 70 counts :\",len(data[data==70]))\n",
        "print(\"total score 80 counts :\",len(data[data==80]))\n",
        "print(\"total score 90 counts :\",len(data[data==90]))"
      ],
      "metadata": {
        "colab": {
          "base_uri": "https://localhost:8080/"
        },
        "id": "GhmWUCJ4vseT",
        "outputId": "4d9c51e0-d1ed-433d-fea8-2abcba0df447"
      },
      "execution_count": null,
      "outputs": [
        {
          "output_type": "stream",
          "name": "stdout",
          "text": [
            "total score 70 counts : 5\n",
            "total score 80 counts : 1\n",
            "total score 90 counts : 4\n"
          ]
        }
      ]
    },
    {
      "cell_type": "code",
      "source": [],
      "metadata": {
        "id": "vl2PEMkov-ux"
      },
      "execution_count": null,
      "outputs": []
    }
  ]
}