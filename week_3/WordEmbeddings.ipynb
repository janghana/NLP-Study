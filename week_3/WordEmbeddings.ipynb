{
  "cells": [
    {
      "cell_type": "markdown",
      "metadata": {
        "deletable": false,
        "editable": false,
        "nbgrader": {
          "checksum": "984959cd4675237d2964d0036770360d",
          "grade": false,
          "grade_id": "cell-6f17f4f5348cd26a",
          "locked": true,
          "schema_version": 1,
          "solution": false
        },
        "id": "ce97yNg2KFCc"
      },
      "source": [
        "# Part 2: Word Embeddings\n",
        "\n",
        "1.   우리는 따로 학습 시킬 필요는 없음.\n",
        "2.   다른 사람들이 학습해놓은 모델 가져오면 됨.\n"
      ]
    },
    {
      "cell_type": "code",
      "execution_count": 1,
      "metadata": {
        "deletable": false,
        "editable": false,
        "nbgrader": {
          "checksum": "09ae37aba80f8a3d948cadbed7991dee",
          "grade": false,
          "grade_id": "cell-426d00926ef2a948",
          "locked": true,
          "schema_version": 1,
          "solution": false
        },
        "id": "WqOdEybWKFCd",
        "colab": {
          "base_uri": "https://localhost:8080/"
        },
        "outputId": "477af535-5bcf-45b1-fad9-962aca5848bc"
      },
      "outputs": [
        {
          "output_type": "stream",
          "name": "stdout",
          "text": [
            "Looking in indexes: https://pypi.org/simple, https://us-python.pkg.dev/colab-wheels/public/simple/\n",
            "Collecting torchbearer\n",
            "  Downloading torchbearer-0.5.3-py3-none-any.whl (138 kB)\n",
            "\u001b[2K     \u001b[90m━━━━━━━━━━━━━━━━━━━━━━━━━━━━━━━━━━━━━━━\u001b[0m \u001b[32m138.1/138.1 KB\u001b[0m \u001b[31m4.2 MB/s\u001b[0m eta \u001b[36m0:00:00\u001b[0m\n",
            "\u001b[?25hRequirement already satisfied: torch>=1.0.0 in /usr/local/lib/python3.9/dist-packages (from torchbearer) (1.13.1+cu116)\n",
            "Requirement already satisfied: numpy in /usr/local/lib/python3.9/dist-packages (from torchbearer) (1.22.4)\n",
            "Requirement already satisfied: tqdm in /usr/local/lib/python3.9/dist-packages (from torchbearer) (4.65.0)\n",
            "Requirement already satisfied: typing-extensions in /usr/local/lib/python3.9/dist-packages (from torch>=1.0.0->torchbearer) (4.5.0)\n",
            "Installing collected packages: torchbearer\n",
            "Successfully installed torchbearer-0.5.3\n"
          ]
        },
        {
          "output_type": "stream",
          "name": "stderr",
          "text": [
            "/usr/local/lib/python3.9/dist-packages/torch/cuda/__init__.py:497: UserWarning: Can't initialize NVML\n",
            "  warnings.warn(\"Can't initialize NVML\")\n"
          ]
        },
        {
          "output_type": "stream",
          "name": "stdout",
          "text": [
            "/usr/local/lib/python3.9/dist-packages/torch/cuda/__init__.py:497: UserWarning: Can't initialize NVML\n",
            "  warnings.warn(\"Can't initialize NVML\")\n",
            "2023-03-24 07:33:50.938727: W tensorflow/compiler/xla/stream_executor/platform/default/dso_loader.cc:64] Could not load dynamic library 'libnvinfer.so.7'; dlerror: libnvinfer.so.7: cannot open shared object file: No such file or directory; LD_LIBRARY_PATH: /usr/local/nvidia/lib:/usr/local/nvidia/lib64\n",
            "2023-03-24 07:33:50.938872: W tensorflow/compiler/xla/stream_executor/platform/default/dso_loader.cc:64] Could not load dynamic library 'libnvinfer_plugin.so.7'; dlerror: libnvinfer_plugin.so.7: cannot open shared object file: No such file or directory; LD_LIBRARY_PATH: /usr/local/nvidia/lib:/usr/local/nvidia/lib64\n",
            "2023-03-24 07:33:50.938895: W tensorflow/compiler/tf2tensorrt/utils/py_utils.cc:38] TF-TRT Warning: Cannot dlopen some TensorRT libraries. If you would like to use Nvidia GPU with TensorRT, please make sure the missing libraries mentioned above are installed properly.\n",
            "2023-03-24 07:33:53.035258: E tensorflow/compiler/xla/stream_executor/cuda/cuda_driver.cc:267] failed call to cuInit: CUDA_ERROR_NO_DEVICE: no CUDA-capable device is detected\n",
            "\u001b[38;5;3m⚠ As of spaCy v3.0, shortcuts like 'en' are deprecated. Please use the\n",
            "full pipeline package name 'en_core_web_sm' instead.\u001b[0m\n",
            "Looking in indexes: https://pypi.org/simple, https://us-python.pkg.dev/colab-wheels/public/simple/\n",
            "Collecting en-core-web-sm==3.5.0\n",
            "  Downloading https://github.com/explosion/spacy-models/releases/download/en_core_web_sm-3.5.0/en_core_web_sm-3.5.0-py3-none-any.whl (12.8 MB)\n",
            "\u001b[2K     \u001b[90m━━━━━━━━━━━━━━━━━━━━━━━━━━━━━━━━━━━━━━━━\u001b[0m \u001b[32m12.8/12.8 MB\u001b[0m \u001b[31m71.0 MB/s\u001b[0m eta \u001b[36m0:00:00\u001b[0m\n",
            "\u001b[?25hRequirement already satisfied: spacy<3.6.0,>=3.5.0 in /usr/local/lib/python3.9/dist-packages (from en-core-web-sm==3.5.0) (3.5.1)\n",
            "Requirement already satisfied: pydantic!=1.8,!=1.8.1,<1.11.0,>=1.7.4 in /usr/local/lib/python3.9/dist-packages (from spacy<3.6.0,>=3.5.0->en-core-web-sm==3.5.0) (1.10.6)\n",
            "Requirement already satisfied: wasabi<1.2.0,>=0.9.1 in /usr/local/lib/python3.9/dist-packages (from spacy<3.6.0,>=3.5.0->en-core-web-sm==3.5.0) (1.1.1)\n",
            "Requirement already satisfied: spacy-legacy<3.1.0,>=3.0.11 in /usr/local/lib/python3.9/dist-packages (from spacy<3.6.0,>=3.5.0->en-core-web-sm==3.5.0) (3.0.12)\n",
            "Requirement already satisfied: pathy>=0.10.0 in /usr/local/lib/python3.9/dist-packages (from spacy<3.6.0,>=3.5.0->en-core-web-sm==3.5.0) (0.10.1)\n",
            "Requirement already satisfied: numpy>=1.15.0 in /usr/local/lib/python3.9/dist-packages (from spacy<3.6.0,>=3.5.0->en-core-web-sm==3.5.0) (1.22.4)\n",
            "Requirement already satisfied: cymem<2.1.0,>=2.0.2 in /usr/local/lib/python3.9/dist-packages (from spacy<3.6.0,>=3.5.0->en-core-web-sm==3.5.0) (2.0.7)\n",
            "Requirement already satisfied: spacy-loggers<2.0.0,>=1.0.0 in /usr/local/lib/python3.9/dist-packages (from spacy<3.6.0,>=3.5.0->en-core-web-sm==3.5.0) (1.0.4)\n",
            "Requirement already satisfied: murmurhash<1.1.0,>=0.28.0 in /usr/local/lib/python3.9/dist-packages (from spacy<3.6.0,>=3.5.0->en-core-web-sm==3.5.0) (1.0.9)\n",
            "Requirement already satisfied: typer<0.8.0,>=0.3.0 in /usr/local/lib/python3.9/dist-packages (from spacy<3.6.0,>=3.5.0->en-core-web-sm==3.5.0) (0.7.0)\n",
            "Requirement already satisfied: thinc<8.2.0,>=8.1.8 in /usr/local/lib/python3.9/dist-packages (from spacy<3.6.0,>=3.5.0->en-core-web-sm==3.5.0) (8.1.9)\n",
            "Requirement already satisfied: tqdm<5.0.0,>=4.38.0 in /usr/local/lib/python3.9/dist-packages (from spacy<3.6.0,>=3.5.0->en-core-web-sm==3.5.0) (4.65.0)\n",
            "Requirement already satisfied: setuptools in /usr/local/lib/python3.9/dist-packages (from spacy<3.6.0,>=3.5.0->en-core-web-sm==3.5.0) (67.6.0)\n",
            "Requirement already satisfied: packaging>=20.0 in /usr/local/lib/python3.9/dist-packages (from spacy<3.6.0,>=3.5.0->en-core-web-sm==3.5.0) (23.0)\n",
            "Requirement already satisfied: jinja2 in /usr/local/lib/python3.9/dist-packages (from spacy<3.6.0,>=3.5.0->en-core-web-sm==3.5.0) (3.1.2)\n",
            "Requirement already satisfied: requests<3.0.0,>=2.13.0 in /usr/local/lib/python3.9/dist-packages (from spacy<3.6.0,>=3.5.0->en-core-web-sm==3.5.0) (2.27.1)\n",
            "Requirement already satisfied: langcodes<4.0.0,>=3.2.0 in /usr/local/lib/python3.9/dist-packages (from spacy<3.6.0,>=3.5.0->en-core-web-sm==3.5.0) (3.3.0)\n",
            "Requirement already satisfied: srsly<3.0.0,>=2.4.3 in /usr/local/lib/python3.9/dist-packages (from spacy<3.6.0,>=3.5.0->en-core-web-sm==3.5.0) (2.4.6)\n",
            "Requirement already satisfied: smart-open<7.0.0,>=5.2.1 in /usr/local/lib/python3.9/dist-packages (from spacy<3.6.0,>=3.5.0->en-core-web-sm==3.5.0) (6.3.0)\n",
            "Requirement already satisfied: preshed<3.1.0,>=3.0.2 in /usr/local/lib/python3.9/dist-packages (from spacy<3.6.0,>=3.5.0->en-core-web-sm==3.5.0) (3.0.8)\n",
            "Requirement already satisfied: catalogue<2.1.0,>=2.0.6 in /usr/local/lib/python3.9/dist-packages (from spacy<3.6.0,>=3.5.0->en-core-web-sm==3.5.0) (2.0.8)\n",
            "Requirement already satisfied: typing-extensions>=4.2.0 in /usr/local/lib/python3.9/dist-packages (from pydantic!=1.8,!=1.8.1,<1.11.0,>=1.7.4->spacy<3.6.0,>=3.5.0->en-core-web-sm==3.5.0) (4.5.0)\n",
            "Requirement already satisfied: certifi>=2017.4.17 in /usr/local/lib/python3.9/dist-packages (from requests<3.0.0,>=2.13.0->spacy<3.6.0,>=3.5.0->en-core-web-sm==3.5.0) (2022.12.7)\n",
            "Requirement already satisfied: charset-normalizer~=2.0.0 in /usr/local/lib/python3.9/dist-packages (from requests<3.0.0,>=2.13.0->spacy<3.6.0,>=3.5.0->en-core-web-sm==3.5.0) (2.0.12)\n",
            "Requirement already satisfied: idna<4,>=2.5 in /usr/local/lib/python3.9/dist-packages (from requests<3.0.0,>=2.13.0->spacy<3.6.0,>=3.5.0->en-core-web-sm==3.5.0) (3.4)\n",
            "Requirement already satisfied: urllib3<1.27,>=1.21.1 in /usr/local/lib/python3.9/dist-packages (from requests<3.0.0,>=2.13.0->spacy<3.6.0,>=3.5.0->en-core-web-sm==3.5.0) (1.26.15)\n",
            "Requirement already satisfied: blis<0.8.0,>=0.7.8 in /usr/local/lib/python3.9/dist-packages (from thinc<8.2.0,>=8.1.8->spacy<3.6.0,>=3.5.0->en-core-web-sm==3.5.0) (0.7.9)\n",
            "Requirement already satisfied: confection<1.0.0,>=0.0.1 in /usr/local/lib/python3.9/dist-packages (from thinc<8.2.0,>=8.1.8->spacy<3.6.0,>=3.5.0->en-core-web-sm==3.5.0) (0.0.4)\n",
            "Requirement already satisfied: click<9.0.0,>=7.1.1 in /usr/local/lib/python3.9/dist-packages (from typer<0.8.0,>=0.3.0->spacy<3.6.0,>=3.5.0->en-core-web-sm==3.5.0) (8.1.3)\n",
            "Requirement already satisfied: MarkupSafe>=2.0 in /usr/local/lib/python3.9/dist-packages (from jinja2->spacy<3.6.0,>=3.5.0->en-core-web-sm==3.5.0) (2.1.2)\n",
            "\u001b[38;5;2m✔ Download and installation successful\u001b[0m\n",
            "You can now load the package via spacy.load('en_core_web_sm')\n"
          ]
        }
      ],
      "source": [
        "# Execute this code block to install dependencies when running on colab\n",
        "try:\n",
        "    import torch\n",
        "except:\n",
        "    from os.path import exists\n",
        "    from wheel.pep425tags import get_abbr_impl, get_impl_ver, get_abi_tag\n",
        "    platform = '{}{}-{}'.format(get_abbr_impl(), get_impl_ver(), get_abi_tag())\n",
        "    cuda_output = !ldconfig -p|grep cudart.so|sed -e 's/.*\\.\\([0-9]*\\)\\.\\([0-9]*\\)$/cu\\1\\2/'\n",
        "    accelerator = cuda_output[0] if exists('/dev/nvidia0') else 'cpu'\n",
        "\n",
        "    !pip install -q http://download.pytorch.org/whl/{accelerator}/torch-1.0.0-{platform}-linux_x86_64.whl torchvision\n",
        "\n",
        "try: \n",
        "    import torchbearer\n",
        "except:\n",
        "    !pip install torchbearer\n",
        "    \n",
        "try:\n",
        "    import torchtext\n",
        "except:\n",
        "    !pip install torchtext\n",
        "    \n",
        "try:\n",
        "    import spacy\n",
        "except:\n",
        "    !pip install spacy\n",
        "\n",
        "try:\n",
        "    spacy.load('en')\n",
        "except:\n",
        "    !python -m spacy download en"
      ]
    },
    {
      "cell_type": "markdown",
      "metadata": {
        "deletable": false,
        "editable": false,
        "nbgrader": {
          "checksum": "d61a9db4eae318662e2d525b44722941",
          "grade": false,
          "grade_id": "cell-cc5d1e090cea2dd0",
          "locked": true,
          "schema_version": 1,
          "solution": false
        },
        "id": "EdZgRBZiKFCe"
      },
      "source": [
        "Word embeddings transform a one-hot encoded vector (a vector that is 0 in elements except one, which is 1) into a much smaller dimension vector of real numbers. The one-hot encoded vector is a *sparse vector*, whilst the real valued vector is a *dense vector*. \n",
        "\n",
        "The key concept in these word embeddings is that words that appear in similar _contexts_ appear nearby in the vector space, i.e. the Euclidean distance between these two word vectors is small. By context here, we mean the surrounding words. For example in the sentences \"I purchased some items at the shop\" and \"I purchased some items at the store\" the words 'shop' and 'store' appear in the same context and thus should be close together in vector space.\n",
        "\n",
        "We'll talk about some of the well-known algorithms for learning embeddings in the lectures, but you might have already heard of a popular model called *word2vec*, which was first published in a rejected ICLR submission (it has some pretty damning reviews, but also has thousands of citations!). In this lab we'll use pre-trained *GloVe* vectors. *GloVe* is a different algorithm for computing word vectors, although the outcome is similar to *word2vec*. These pre-trained embeddings have been trained on a gigantic corpus. We can use these pre-trained vectors within any of our models, with the idea that as they have already learned the context of each word they will give us a better starting point for our word vectors. This usually leads to faster training time and/or improved accuracy.\n",
        "\n",
        "In PyTorch, we use word vectors with the `nn.Embedding` layer, which takes a _**[sentence length, batch size]**_ tensor and transforms it into a _**[sentence length, batch size, embedding dimensions]**_ tensor. `nn.Embedding` layers can be trained from scratch, or they can be initialised (and optionally fixed) with pre-trained embedding data. The key thing to remember about an `nn.Embedding` is that it does not need to explicitly use a one-hot vector representation at any point; it just maps an index to a vector. This is important because it implies massive computational savings; more concretly an Emdedding is essentially a linear map in which the weight matrix of the linear layer is multiplied by a one-hot sparse-vector to produce a lower-dimensional (dense) output. This is exactly equivalent to just selecting the column of the weight matrix corresponding to the index represented by the sparse vector.\n",
        "\n",
        "In this part of the lab we won't be training any models; instead we'll be looking at the word embeddings and investigating a few interesting things we can do with them.\n",
        "\n",
        "## Loading the GloVe vectors\n",
        "\n",
        "First, we'll load the pre-trained GloVe vectors. The `name` field specifies what the vectors have been trained on, here the `6B` means a corpus of 6 billion words. The `dim` argument specifies the dimensionality of the word vectors. GloVe vectors are available in 50, 100, 200 and 300 dimensions. There is also a `42B` and `840B` glove vectors, however they are only available at 300 dimensions. The first time you run this it will take time as the vectors need to be downloaded:"
      ]
    },
    {
      "cell_type": "code",
      "execution_count": 2,
      "metadata": {
        "deletable": false,
        "editable": false,
        "nbgrader": {
          "checksum": "ad157a2a3b61280e0b6f17bd3ad12faa",
          "grade": false,
          "grade_id": "cell-aceafa53d8c3ee9e",
          "locked": true,
          "schema_version": 1,
          "solution": false
        },
        "id": "OeV6IdIUKFCf",
        "colab": {
          "base_uri": "https://localhost:8080/"
        },
        "outputId": "211ae795-2489-4315-8bd9-5561ea3868f2"
      },
      "outputs": [
        {
          "output_type": "stream",
          "name": "stderr",
          "text": [
            ".vector_cache/glove.6B.zip: 862MB [02:39, 5.40MB/s]                           \n",
            "100%|█████████▉| 399999/400000 [00:19<00:00, 20515.34it/s]\n"
          ]
        },
        {
          "output_type": "stream",
          "name": "stdout",
          "text": [
            "There are 400000 words in the vocabulary\n"
          ]
        }
      ],
      "source": [
        "import torchtext.vocab\n",
        "\n",
        "glove = torchtext.vocab.GloVe(name='6B', dim=100) # 이미 학습된 것을 불러오기만 하는 것임. torchtext의 vocab에 존재.\n",
        "# hidden size를를 몇으로로 정할래임. V -> hidden (100 / 300 / 512 / 256)\n",
        "print(f'There are {len(glove.itos)} words in the vocabulary')\n",
        "# itos -> dictionary의 사이즈가 무엇이냐는 것.\n",
        "# 우리는 지금 아래와 같이 400000개의 words를 사용 가능함."
      ]
    },
    {
      "cell_type": "markdown",
      "metadata": {
        "deletable": false,
        "editable": false,
        "nbgrader": {
          "checksum": "6d6d3a9d7c029ce69fbc5b4b65d8dcf7",
          "grade": false,
          "grade_id": "cell-504c748c992c4304",
          "locked": true,
          "schema_version": 1,
          "solution": false
        },
        "id": "XZmcMaQSKFCf"
      },
      "source": [
        "As shown above, there are 400,000 unique words in the GloVe vocabulary. These are the most common words found in the corpus the vectors were trained on. **In these set of GloVe vectors, every single word is lower-case only.**\n",
        "\n",
        "`glove.vectors` is the actual tensor containing the values of the embeddings."
      ]
    },
    {
      "cell_type": "code",
      "execution_count": 3,
      "metadata": {
        "deletable": false,
        "editable": false,
        "nbgrader": {
          "checksum": "5c17fc906f39bcc8ad50be640173a9fa",
          "grade": false,
          "grade_id": "cell-d581dee4f722cca5",
          "locked": true,
          "schema_version": 1,
          "solution": false
        },
        "id": "FroiB9NoKFCf",
        "colab": {
          "base_uri": "https://localhost:8080/"
        },
        "outputId": "4ee8ce15-c870-44ae-c082-377488bb9866"
      },
      "outputs": [
        {
          "output_type": "execute_result",
          "data": {
            "text/plain": [
              "torch.Size([400000, 100])"
            ]
          },
          "metadata": {},
          "execution_count": 3
        }
      ],
      "source": [
        "glove.vectors.shape # 400000 x 100차원 짜리 가져옴."
      ]
    },
    {
      "cell_type": "markdown",
      "metadata": {
        "deletable": false,
        "editable": false,
        "nbgrader": {
          "checksum": "a45800d85ac4b4b0b28b7c5786e7f611",
          "grade": false,
          "grade_id": "cell-8b7f0ea5ae20558b",
          "locked": true,
          "schema_version": 1,
          "solution": false
        },
        "id": "ObEHup3gKFCf"
      },
      "source": [
        "We can see what word is associated with each row by checking the `itos` (int to string) list. \n",
        "\n",
        "Below implies that row 0 is the vector associated with the word 'the', row 1 for ',' (comma), row 2 for '.' (period), etc."
      ]
    },
    {
      "cell_type": "code",
      "execution_count": 6,
      "metadata": {
        "deletable": false,
        "editable": false,
        "nbgrader": {
          "checksum": "056f9034fdc1ea90e5eb7f2aec199e04",
          "grade": false,
          "grade_id": "cell-c729cc0c78c40e6c",
          "locked": true,
          "schema_version": 1,
          "solution": false
        },
        "id": "FkkkdEJbKFCf",
        "colab": {
          "base_uri": "https://localhost:8080/"
        },
        "outputId": "adaf975a-c7d3-4bf6-c21b-bf5c9ac82d9a"
      },
      "outputs": [
        {
          "output_type": "execute_result",
          "data": {
            "text/plain": [
              "['the',\n",
              " ',',\n",
              " '.',\n",
              " 'of',\n",
              " 'to',\n",
              " 'and',\n",
              " 'in',\n",
              " 'a',\n",
              " '\"',\n",
              " \"'s\",\n",
              " 'for',\n",
              " '-',\n",
              " 'that',\n",
              " 'on',\n",
              " 'is',\n",
              " 'was',\n",
              " 'said',\n",
              " 'with',\n",
              " 'he',\n",
              " 'as',\n",
              " 'it',\n",
              " 'by',\n",
              " 'at',\n",
              " '(',\n",
              " ')',\n",
              " 'from',\n",
              " 'his',\n",
              " \"''\",\n",
              " '``',\n",
              " 'an',\n",
              " 'be',\n",
              " 'has',\n",
              " 'are',\n",
              " 'have',\n",
              " 'but',\n",
              " 'were',\n",
              " 'not',\n",
              " 'this',\n",
              " 'who',\n",
              " 'they',\n",
              " 'had',\n",
              " 'i',\n",
              " 'which',\n",
              " 'will',\n",
              " 'their',\n",
              " ':',\n",
              " 'or',\n",
              " 'its',\n",
              " 'one',\n",
              " 'after',\n",
              " 'new',\n",
              " 'been',\n",
              " 'also',\n",
              " 'we',\n",
              " 'would',\n",
              " 'two',\n",
              " 'more',\n",
              " \"'\",\n",
              " 'first',\n",
              " 'about',\n",
              " 'up',\n",
              " 'when',\n",
              " 'year',\n",
              " 'there',\n",
              " 'all',\n",
              " '--',\n",
              " 'out',\n",
              " 'she',\n",
              " 'other',\n",
              " 'people',\n",
              " \"n't\",\n",
              " 'her',\n",
              " 'percent',\n",
              " 'than',\n",
              " 'over',\n",
              " 'into',\n",
              " 'last',\n",
              " 'some',\n",
              " 'government',\n",
              " 'time',\n",
              " '$',\n",
              " 'you',\n",
              " 'years',\n",
              " 'if',\n",
              " 'no',\n",
              " 'world',\n",
              " 'can',\n",
              " 'three',\n",
              " 'do',\n",
              " ';',\n",
              " 'president',\n",
              " 'only',\n",
              " 'state',\n",
              " 'million',\n",
              " 'could',\n",
              " 'us',\n",
              " 'most',\n",
              " '_',\n",
              " 'against',\n",
              " 'u.s.']"
            ]
          },
          "metadata": {},
          "execution_count": 6
        }
      ],
      "source": [
        "glove.itos[:100] # 일부 찍어봄. # glove는 사전과도 같다. 어떤 단어에 대한 embedding 값을 쭉 가지고 있다."
      ]
    },
    {
      "cell_type": "markdown",
      "metadata": {
        "deletable": false,
        "editable": false,
        "nbgrader": {
          "checksum": "d54851b373cca20e645497dfe6dfc8f0",
          "grade": false,
          "grade_id": "cell-f0e2bc91e46d85ab",
          "locked": true,
          "schema_version": 1,
          "solution": false
        },
        "id": "vV-MLTVlKFCf"
      },
      "source": [
        "We can also use the `stoi` (string to int) dictionary, in which we input a word and receive the associated integer/index. If you try get the index of a word that is not in the vocabulary, you receive an error."
      ]
    },
    {
      "cell_type": "code",
      "execution_count": 10,
      "metadata": {
        "deletable": false,
        "editable": false,
        "nbgrader": {
          "checksum": "4328787e224e941b4dcc53c2315626ee",
          "grade": false,
          "grade_id": "cell-a95267b694432ed1",
          "locked": true,
          "schema_version": 1,
          "solution": false
        },
        "id": "HDLZWKjgKFCg",
        "colab": {
          "base_uri": "https://localhost:8080/"
        },
        "outputId": "61b266f2-2d93-41b3-d327-7b236476b8c1"
      },
      "outputs": [
        {
          "output_type": "execute_result",
          "data": {
            "text/plain": [
              "0"
            ]
          },
          "metadata": {},
          "execution_count": 10
        }
      ],
      "source": [
        "glove.stoi['the'] # 단어가 몇 번째에 존재하냐. keyerror 는 없는 것.\n",
        "# 가장 많이 등장하는 단어를 앞에서부터 넣는다."
      ]
    },
    {
      "cell_type": "markdown",
      "metadata": {
        "deletable": false,
        "editable": false,
        "nbgrader": {
          "checksum": "b506644789934cd8b5a7afcc4e3ccc39",
          "grade": false,
          "grade_id": "cell-ba0310634f767896",
          "locked": true,
          "schema_version": 1,
          "solution": false
        },
        "id": "VQBFAMJKKFCg"
      },
      "source": [
        "We can get the vector of a word by first getting the integer associated with it and then indexing into the word embedding tensor with that index."
      ]
    },
    {
      "cell_type": "code",
      "execution_count": 14,
      "metadata": {
        "deletable": false,
        "editable": false,
        "nbgrader": {
          "checksum": "bbc1b6a3ec1c87301f8b913034b5798c",
          "grade": false,
          "grade_id": "cell-ec58401ce38b8fe9",
          "locked": true,
          "schema_version": 1,
          "solution": false
        },
        "id": "hNAtKC5_KFCg",
        "colab": {
          "base_uri": "https://localhost:8080/"
        },
        "outputId": "fbb140ad-e0d0-410a-963d-02d088e8faa2"
      },
      "outputs": [
        {
          "output_type": "stream",
          "name": "stdout",
          "text": [
            "0\n"
          ]
        },
        {
          "output_type": "execute_result",
          "data": {
            "text/plain": [
              "tensor([-0.0382, -0.2449,  0.7281, -0.3996,  0.0832,  0.0440, -0.3914,  0.3344,\n",
              "        -0.5755,  0.0875,  0.2879, -0.0673,  0.3091, -0.2638, -0.1323, -0.2076,\n",
              "         0.3340, -0.3385, -0.3174, -0.4834,  0.1464, -0.3730,  0.3458,  0.0520,\n",
              "         0.4495, -0.4697,  0.0263, -0.5415, -0.1552, -0.1411, -0.0397,  0.2828,\n",
              "         0.1439,  0.2346, -0.3102,  0.0862,  0.2040,  0.5262,  0.1716, -0.0824,\n",
              "        -0.7179, -0.4153,  0.2033, -0.1276,  0.4137,  0.5519,  0.5791, -0.3348,\n",
              "        -0.3656, -0.5486, -0.0629,  0.2658,  0.3020,  0.9977, -0.8048, -3.0243,\n",
              "         0.0125, -0.3694,  2.2167,  0.7220, -0.2498,  0.9214,  0.0345,  0.4674,\n",
              "         1.1079, -0.1936, -0.0746,  0.2335, -0.0521, -0.2204,  0.0572, -0.1581,\n",
              "        -0.3080, -0.4162,  0.3797,  0.1501, -0.5321, -0.2055, -1.2526,  0.0716,\n",
              "         0.7056,  0.4974, -0.4206,  0.2615, -1.5380, -0.3022, -0.0734, -0.2831,\n",
              "         0.3710, -0.2522,  0.0162, -0.0171, -0.3898,  0.8742, -0.7257, -0.5106,\n",
              "        -0.5203, -0.1459,  0.8278,  0.2706])"
            ]
          },
          "metadata": {},
          "execution_count": 14
        }
      ],
      "source": [
        "print(glove.stoi['the'])\n",
        "glove.vectors[glove.stoi['the']] # 우리의 목적은, 단어의 인텍스에서 벡터를 가져오라는 것이다. 이이 벡터는 400000 x 100 차원 짜리인데, the 라는 단어를 가져오려면,\n",
        "# the 라는 단어의 인덱스를 0으로 부여함.\n",
        "# the라는 embedding은 다음과 같이 생겼다.\n",
        "# 0번째째 embedding 값이 아래와 같은 것이다.\n",
        "\n",
        "# 컴퓨터는 단어를 알지는 못 한다. 숫자로 표현했다.\n",
        "# 그래서 man - woman 와 같은 연산이 가능한 것이다."
      ]
    },
    {
      "cell_type": "markdown",
      "metadata": {
        "deletable": false,
        "editable": false,
        "nbgrader": {
          "checksum": "d9591f8c7576a4211a24259d5a08f495",
          "grade": false,
          "grade_id": "cell-3f6513c100744743",
          "locked": true,
          "schema_version": 1,
          "solution": false
        },
        "id": "Ne26GarSKFCg"
      },
      "source": [
        "We'll be doing this a lot. __Use the following block to create a function that takes in word embeddings and a word and returns the associated vector.__ You should throw an error if the word doesn't exist in the vocabulary:"
      ]
    },
    {
      "cell_type": "code",
      "execution_count": 18,
      "metadata": {
        "deletable": false,
        "nbgrader": {
          "checksum": "cc248cb64c4760e65292e3e7a8c4b3cd",
          "grade": true,
          "grade_id": "cell-665d7b4d1dd8f339",
          "locked": false,
          "points": 4,
          "schema_version": 1,
          "solution": true
        },
        "id": "rdVzQj72KFCg"
      },
      "outputs": [],
      "source": [
        "def get_vector(embeddings, word):\n",
        "\n",
        "    # Glove라는는 embedding에에 vectors 값을을 함함.\n",
        "    # YOUR CODE HERE\n",
        "    # 특정정 embedding에에 대한 단어를를 뱉어라라.\n",
        "  return embeddings.vectors[embeddings.stoi[word]]"
      ]
    },
    {
      "cell_type": "markdown",
      "metadata": {
        "deletable": false,
        "editable": false,
        "nbgrader": {
          "checksum": "ca9447056d8b427e99b7bd0372902d9c",
          "grade": false,
          "grade_id": "cell-9ff707bac4fd2556",
          "locked": true,
          "schema_version": 1,
          "solution": false
        },
        "id": "6gLLHNRuKFCg"
      },
      "source": [
        "As before, we use a word to get the associated vector."
      ]
    },
    {
      "cell_type": "code",
      "execution_count": 19,
      "metadata": {
        "deletable": false,
        "editable": false,
        "nbgrader": {
          "checksum": "fdf27ce0601aef03ff1efdd73bd779ca",
          "grade": false,
          "grade_id": "cell-6311b14c496949f5",
          "locked": true,
          "schema_version": 1,
          "solution": false
        },
        "id": "r6hcOJU3KFCg",
        "colab": {
          "base_uri": "https://localhost:8080/"
        },
        "outputId": "ccaf7796-9dde-4276-d14c-e0ef36a8215a"
      },
      "outputs": [
        {
          "output_type": "execute_result",
          "data": {
            "text/plain": [
              "tensor([-0.0382, -0.2449,  0.7281, -0.3996,  0.0832,  0.0440, -0.3914,  0.3344,\n",
              "        -0.5755,  0.0875,  0.2879, -0.0673,  0.3091, -0.2638, -0.1323, -0.2076,\n",
              "         0.3340, -0.3385, -0.3174, -0.4834,  0.1464, -0.3730,  0.3458,  0.0520,\n",
              "         0.4495, -0.4697,  0.0263, -0.5415, -0.1552, -0.1411, -0.0397,  0.2828,\n",
              "         0.1439,  0.2346, -0.3102,  0.0862,  0.2040,  0.5262,  0.1716, -0.0824,\n",
              "        -0.7179, -0.4153,  0.2033, -0.1276,  0.4137,  0.5519,  0.5791, -0.3348,\n",
              "        -0.3656, -0.5486, -0.0629,  0.2658,  0.3020,  0.9977, -0.8048, -3.0243,\n",
              "         0.0125, -0.3694,  2.2167,  0.7220, -0.2498,  0.9214,  0.0345,  0.4674,\n",
              "         1.1079, -0.1936, -0.0746,  0.2335, -0.0521, -0.2204,  0.0572, -0.1581,\n",
              "        -0.3080, -0.4162,  0.3797,  0.1501, -0.5321, -0.2055, -1.2526,  0.0716,\n",
              "         0.7056,  0.4974, -0.4206,  0.2615, -1.5380, -0.3022, -0.0734, -0.2831,\n",
              "         0.3710, -0.2522,  0.0162, -0.0171, -0.3898,  0.8742, -0.7257, -0.5106,\n",
              "        -0.5203, -0.1459,  0.8278,  0.2706])"
            ]
          },
          "metadata": {},
          "execution_count": 19
        }
      ],
      "source": [
        "get_vector(glove, 'the')"
      ]
    },
    {
      "cell_type": "markdown",
      "metadata": {
        "deletable": false,
        "editable": false,
        "nbgrader": {
          "checksum": "db7798ec9825a17c0ccede676217ccff",
          "grade": false,
          "grade_id": "cell-5ce5018fe3a64aa5",
          "locked": true,
          "schema_version": 1,
          "solution": false
        },
        "id": "RWaywk70KFCh"
      },
      "source": [
        "## Similar Contexts\n",
        "\n",
        "Now to start looking at the context of different words. \n",
        "\n",
        "If we want to find the words similar to a certain input word, we first find the vector of this input word, then we scan through our vocabulary finding any vectors similar to this input word vector.\n",
        "\n",
        "The function below returns the closest 10 words to an input word vector:"
      ]
    },
    {
      "cell_type": "code",
      "execution_count": 21,
      "metadata": {
        "deletable": false,
        "editable": false,
        "nbgrader": {
          "checksum": "e0c40de99156af4a0ccbfde1e6c8c73c",
          "grade": false,
          "grade_id": "cell-7caf2bf37d7f6acd",
          "locked": true,
          "schema_version": 1,
          "solution": false
        },
        "id": "WxL19FbNKFCh"
      },
      "outputs": [],
      "source": [
        "import torch\n",
        "\n",
        "# 모든든 단어와와 주어진진 단어와의의 모든든d istance를를 구해서서 가장장 거리가가 짧은은 애애 n개를를 리턴해줘줘.\n",
        "\n",
        "# 가장장 가까운운 것을을 찾음음.\n",
        "# embedding과과 vector가가 들어오면면 찾음음.\n",
        "# 유클리디안안 distance로로 distance를를 구해서서 \n",
        "def closest_words(embeddings, vector, n=10):\n",
        "    distances = [(w, torch.dist(vector, get_vector(embeddings, w)).item()) for w in embeddings.itos]\n",
        "    return sorted(distances, key = lambda w: w[1])[:n]"
      ]
    },
    {
      "cell_type": "markdown",
      "metadata": {
        "deletable": false,
        "editable": false,
        "nbgrader": {
          "checksum": "67ad88185491caa67edc4c043b2dfffa",
          "grade": false,
          "grade_id": "cell-37ae589db1788914",
          "locked": true,
          "schema_version": 1,
          "solution": false
        },
        "id": "vV6TKJZKKFCh"
      },
      "source": [
        "Let's try it out with 'korea'. The closest word is the word 'korea' itself (not very interesting), however all of the words are related in some way. Pyongyang is the capital of North Korea, DPRK is the official name of North Korea, etc.\n",
        "\n",
        "Interestingly, we also get 'Japan' and 'China',  implies that Korea, Japan and China are frequently talked about together in similar contexts. This makes sense as they are geographically situated near each other. "
      ]
    },
    {
      "cell_type": "code",
      "execution_count": 22,
      "metadata": {
        "deletable": false,
        "editable": false,
        "nbgrader": {
          "checksum": "3c53201c7b9717f670c96e6db2ce1fc0",
          "grade": false,
          "grade_id": "cell-f0315fd8a79e03c2",
          "locked": true,
          "schema_version": 1,
          "solution": false
        },
        "id": "96BAcqKSKFCh",
        "colab": {
          "base_uri": "https://localhost:8080/"
        },
        "outputId": "e700f461-38be-4f90-a978-ccb3b0093e99"
      },
      "outputs": [
        {
          "output_type": "execute_result",
          "data": {
            "text/plain": [
              "[('korea', 0.0),\n",
              " ('pyongyang', 3.9039547443389893),\n",
              " ('korean', 4.068886756896973),\n",
              " ('dprk', 4.2631049156188965),\n",
              " ('seoul', 4.340494632720947),\n",
              " ('japan', 4.551243305206299),\n",
              " ('koreans', 4.615607738494873),\n",
              " ('south', 4.65822696685791),\n",
              " ('china', 4.8395185470581055),\n",
              " ('north', 4.986356735229492)]"
            ]
          },
          "metadata": {},
          "execution_count": 22
        }
      ],
      "source": [
        "closest_words(glove, get_vector(glove, 'korea')) # glove와와 korea라는는 단어와와 가장장 가까운운 단어 10개는는 아래와와 같다다/"
      ]
    },
    {
      "cell_type": "markdown",
      "metadata": {
        "deletable": false,
        "editable": false,
        "nbgrader": {
          "checksum": "cc290c1df8992513c81e9f6ab7d30812",
          "grade": false,
          "grade_id": "cell-aa3ce8cccc903a24",
          "locked": true,
          "schema_version": 1,
          "solution": false
        },
        "id": "_YOhmzCVKFCh"
      },
      "source": [
        "Looking at another country, India, we also get nearby countries: Thailand, Malaysia and Sri Lanka (as two separate words). Australia is relatively close to India (geographically), but Thailand and Malaysia are closer. So why is Australia closer to India in vector space? A plausible explaination is that India and Australia appear together in the context of [cricket](https://en.wikipedia.org/wiki/Cricket) matches."
      ]
    },
    {
      "cell_type": "code",
      "execution_count": 24,
      "metadata": {
        "deletable": false,
        "editable": false,
        "nbgrader": {
          "checksum": "5b12751bffec3905109d45bdf5503e5f",
          "grade": false,
          "grade_id": "cell-e42121c7951db2d3",
          "locked": true,
          "schema_version": 1,
          "solution": false
        },
        "id": "9uVYmOxOKFCh",
        "colab": {
          "base_uri": "https://localhost:8080/"
        },
        "outputId": "0ed53a31-abda-42fb-deb3-3ebb68952ea8"
      },
      "outputs": [
        {
          "output_type": "execute_result",
          "data": {
            "text/plain": [
              "[('india', 0.0),\n",
              " ('pakistan', 3.695482015609741),\n",
              " ('indian', 4.114313125610352),\n",
              " ('delhi', 4.155976295471191),\n",
              " ('bangladesh', 4.261017799377441),\n",
              " ('lanka', 4.43584680557251),\n",
              " ('sri', 4.515717506408691),\n",
              " ('australia', 4.806082248687744),\n",
              " ('thailand', 4.994781494140625),\n",
              " ('malaysia', 5.009334087371826)]"
            ]
          },
          "metadata": {},
          "execution_count": 24
        }
      ],
      "source": [
        "closest_words(glove, get_vector(glove, 'india')) # 뒤에에 나오는는 것은은 distance 값이고고 가까울울 수록록 값이이 작은은 것이다."
      ]
    },
    {
      "cell_type": "markdown",
      "metadata": {
        "deletable": false,
        "editable": false,
        "nbgrader": {
          "checksum": "69ad20637fe1ba949c18119468a615e2",
          "grade": false,
          "grade_id": "cell-7aa75c705fe39e2b",
          "locked": true,
          "schema_version": 1,
          "solution": false
        },
        "id": "sw38bwrdKFCh"
      },
      "source": [
        "We'll also create another function that will nicely print out the tuples returned by our closest_words function."
      ]
    },
    {
      "cell_type": "code",
      "execution_count": 26,
      "metadata": {
        "deletable": false,
        "editable": false,
        "nbgrader": {
          "checksum": "d38ea85b7b473d4405eb968377727e9e",
          "grade": false,
          "grade_id": "cell-e0e61a784e7b5c03",
          "locked": true,
          "schema_version": 1,
          "solution": false
        },
        "id": "ntTac5hIKFCi"
      },
      "outputs": [],
      "source": [
        "def print_tuples(tuples):\n",
        "    for w, d in tuples:\n",
        "        print(f'({d:02.04f}) {w}') # 위 tuple을을 이쁘게게 출력하는는 것것."
      ]
    },
    {
      "cell_type": "markdown",
      "metadata": {
        "deletable": false,
        "editable": false,
        "nbgrader": {
          "checksum": "c314c093d0931d12e5e56b0473de07b4",
          "grade": false,
          "grade_id": "cell-158d48e3c33227e7",
          "locked": true,
          "schema_version": 1,
          "solution": false
        },
        "id": "naLX_UTSKFCi"
      },
      "source": [
        "Using the `print_tuples` function use the code block below to print out the 10 neighbours of 'jaguar':"
      ]
    },
    {
      "cell_type": "code",
      "execution_count": 32,
      "metadata": {
        "deletable": false,
        "nbgrader": {
          "checksum": "d396d6fedd051278308325893bff1a7c",
          "grade": true,
          "grade_id": "cell-c883f0e0c2c194b4",
          "locked": false,
          "points": 2,
          "schema_version": 1,
          "solution": true
        },
        "id": "eqZu8_w6KFCi",
        "colab": {
          "base_uri": "https://localhost:8080/"
        },
        "outputId": "bdca2966-0aab-40f5-cefb-e875ea597a53"
      },
      "outputs": [
        {
          "output_type": "stream",
          "name": "stdout",
          "text": [
            "(0.0000) ai\n",
            "(4.5332) hey\n",
            "(4.5842) ok\n",
            "(4.6785) fukuhara\n",
            "(4.8145) fortunately\n",
            "(4.8299) 'cause\n",
            "(4.8935) yeah\n",
            "(4.9061) hi\n",
            "(4.9083) luckily\n",
            "(4.9333) …\n"
          ]
        }
      ],
      "source": [
        "# YOUR CODE HERE\n",
        "print_tuples(closest_words(glove, get_vector(glove, 'ai'))) # 우리는 ai라는 단어를 원하지만만 ,아래와와 같이이 다른 단어가 나올올 수수 있다다. glove라는는 embedding을\n",
        "# 학습한한 데이터가가 general하고고, 대화화 형식의의 데이터를를 학습했기기 때문에에 이렇게게 나옴옴."
      ]
    },
    {
      "cell_type": "markdown",
      "metadata": {
        "deletable": false,
        "editable": false,
        "nbgrader": {
          "checksum": "5efa0cdc77c06d8a495a6832ac7a2bd3",
          "grade": false,
          "grade_id": "cell-3964ab858fdb82d8",
          "locked": true,
          "schema_version": 1,
          "solution": false
        },
        "id": "1pdkVRNFKFCi"
      },
      "source": [
        "__Use the following block to explain the results.__ (hint: use Google if you don't know what any of the terms are!)"
      ]
    },
    {
      "cell_type": "markdown",
      "metadata": {
        "deletable": false,
        "nbgrader": {
          "checksum": "ece0ec94dff4b1e0bef5bacbec0db9f1",
          "grade": true,
          "grade_id": "cell-ebf08e96b0987860",
          "locked": false,
          "points": 5,
          "schema_version": 1,
          "solution": true
        },
        "id": "zsSPR_rqKFCi"
      },
      "source": [
        "YOUR ANSWER HERE"
      ]
    },
    {
      "cell_type": "markdown",
      "metadata": {
        "deletable": false,
        "editable": false,
        "nbgrader": {
          "checksum": "37e34f44b1798d1f74fb49210ef1da43",
          "grade": false,
          "grade_id": "cell-9f417bc0fb8d5287",
          "locked": true,
          "schema_version": 1,
          "solution": false
        },
        "id": "CdWIqZL4KFCi"
      },
      "source": [
        "## Analogies\n",
        "\n",
        "Another property of word embeddings is that we can apply standard arithmetic operations. This can give interesting results.\n",
        "\n",
        "We'll show an example of this first, and then explain it:"
      ]
    },
    {
      "cell_type": "code",
      "execution_count": 33,
      "metadata": {
        "deletable": false,
        "editable": false,
        "nbgrader": {
          "checksum": "895399907963f0f7a83448dec5165c5d",
          "grade": false,
          "grade_id": "cell-a0f613c8739e5a3c",
          "locked": true,
          "schema_version": 1,
          "solution": false
        },
        "id": "OdWirwG_KFCi"
      },
      "outputs": [],
      "source": [
        "def analogy(embeddings, word1, word2, word3, n=5): # vector로로 표현현 했으니니 빼기기 더하기기 이런런 것이이 되지지 않을까까 ?\n",
        "    \n",
        "    # king + woman - man =====> queen?이이 나오지지 않을까까? 어떤떤 embedding 값이이 나올올 텐데데, 그것이 400000개개 중중 같은은 게게 나올올 가능성은은 거의의 없다다.\n",
        "    # 그 결과로로 나온온 vector와와 400000 단어어 중에서서 그나마마 distance가가 작은은 것을을 고른다다.\n",
        "\n",
        "    candidate_words = closest_words(embeddings, get_vector(embeddings, word2) - get_vector(embeddings, word1) + get_vector(embeddings, word3), n+3)\n",
        "    \n",
        "    candidate_words = [x for x in candidate_words if x[0] not in [word1, word2, word3]][:n]\n",
        "    \n",
        "    print(f'{word1} is to {word2} as {word3} is to...')\n",
        "    \n",
        "    return candidate_words"
      ]
    },
    {
      "cell_type": "code",
      "execution_count": 39,
      "metadata": {
        "deletable": false,
        "editable": false,
        "nbgrader": {
          "checksum": "9994548d295d48b18a1767ebb094a3e6",
          "grade": false,
          "grade_id": "cell-c197612b5ec94762",
          "locked": true,
          "schema_version": 1,
          "solution": false
        },
        "id": "btyKY7mSKFCi",
        "colab": {
          "base_uri": "https://localhost:8080/"
        },
        "outputId": "68966b0f-f2c1-4d98-f49a-7ab7f18d535f"
      },
      "outputs": [
        {
          "output_type": "stream",
          "name": "stdout",
          "text": [
            "man is to king as woman is to...\n",
            "(4.0811) queen\n",
            "(4.6429) monarch\n",
            "(4.9055) throne\n",
            "(4.9216) elizabeth\n",
            "(4.9811) prince\n",
            "(4.9857) daughter\n",
            "(5.0641) mother\n",
            "(5.0775) cousin\n",
            "(5.0787) princess\n",
            "(5.1283) widow\n",
            "seoul is to korea as india is to...\n",
            "(5.8343) pakistan\n",
            "(6.2924) lanka\n",
            "(6.5571) australia\n",
            "(6.5643) bangladesh\n",
            "(6.5883) africa\n",
            "(6.6894) sri\n",
            "(6.7463) indonesia\n",
            "(6.7763) indian\n",
            "(6.9396) japan\n",
            "(6.9865) zealand\n"
          ]
        }
      ],
      "source": [
        "print_tuples(analogy(glove, 'man', 'king', 'woman', n = 10))\n",
        "print_tuples(analogy(glove, 'seoul', 'korea', 'india', n = 10))\n",
        "# 잘잘 하긴긴 하지만만 우리가가 완벽히히 원하는 것을을 얻는는 데에는는 한계가가 있다다."
      ]
    },
    {
      "cell_type": "markdown",
      "metadata": {
        "deletable": false,
        "editable": false,
        "nbgrader": {
          "checksum": "5596f944b3ea0977744e61ac0dc9691e",
          "grade": false,
          "grade_id": "cell-a388955bf35cd584",
          "locked": true,
          "schema_version": 1,
          "solution": false
        },
        "id": "9az9wLgsKFCi"
      },
      "source": [
        "This is the canonical example which shows off this property of word embeddings. So why does it work? Why does the vector of 'woman' added to the vector of 'king' minus the vector of 'man' give us 'queen'?\n",
        "\n",
        "If we think about it, the vector calculated from 'king' minus 'man' gives us a \"royalty vector\". This is the vector associated with traveling from a man to his royal counterpart, a king. If we add this \"royality vector\" to 'woman', this should travel to her royal equivalent, which is a queen!\n",
        "\n",
        "We can do this with other analogies too. For example, this gets an \"acting career vector\":"
      ]
    },
    {
      "cell_type": "code",
      "execution_count": 40,
      "metadata": {
        "deletable": false,
        "editable": false,
        "nbgrader": {
          "checksum": "e3ba3a850f1feed61e5f60a7f998ddd3",
          "grade": false,
          "grade_id": "cell-733267c1033df3c0",
          "locked": true,
          "schema_version": 1,
          "solution": false
        },
        "id": "HClVeQ2nKFCj",
        "colab": {
          "base_uri": "https://localhost:8080/"
        },
        "outputId": "01401a44-9c69-4dc5-b0e7-84384c6a9944"
      },
      "outputs": [
        {
          "output_type": "stream",
          "name": "stdout",
          "text": [
            "man is to actor as woman is to...\n",
            "(2.8133) actress\n",
            "(5.0039) comedian\n",
            "(5.1399) actresses\n",
            "(5.2773) starred\n",
            "(5.3085) screenwriter\n"
          ]
        }
      ],
      "source": [
        "print_tuples(analogy(glove, 'man', 'actor', 'woman'))"
      ]
    },
    {
      "cell_type": "markdown",
      "metadata": {
        "deletable": false,
        "editable": false,
        "nbgrader": {
          "checksum": "a865a1470a970a0636a4d3fae76cab84",
          "grade": false,
          "grade_id": "cell-3a873ba9cf3355e4",
          "locked": true,
          "schema_version": 1,
          "solution": false
        },
        "id": "kLTYpuq8KFCj"
      },
      "source": [
        "__Use the following block to compute a 'capital city vector' that predicts the capital of England based on the capital and name of another country__:"
      ]
    },
    {
      "cell_type": "code",
      "execution_count": 45,
      "metadata": {
        "deletable": false,
        "nbgrader": {
          "checksum": "328c71eb5601837b5202b85934e9bb1c",
          "grade": true,
          "grade_id": "cell-9f399ee568e4ae5b",
          "locked": false,
          "points": 2,
          "schema_version": 1,
          "solution": true
        },
        "id": "h_PiuTGJKFCj",
        "colab": {
          "base_uri": "https://localhost:8080/"
        },
        "outputId": "e0242b17-53c8-4f8a-92f9-ec54787ee1b6"
      },
      "outputs": [
        {
          "output_type": "stream",
          "name": "stdout",
          "text": [
            "seoul is to korea as london is to...\n",
            "(4.0185) britain\n",
            "(4.7469) england\n",
            "(4.7797) europe\n",
            "(4.8555) united\n",
            "(4.9640) australia\n"
          ]
        }
      ],
      "source": [
        "# YOUR CODE HERE\n",
        "print_tuples(analogy(glove, 'seoul', 'korea', 'london')) # 2016 - 17년도에 나옴.\n",
        "# 따로 학습하지 않고, LSTM이나 다른 것에 밑에서 학습을 함."
      ]
    },
    {
      "cell_type": "markdown",
      "metadata": {
        "deletable": false,
        "editable": false,
        "nbgrader": {
          "checksum": "33e404a915d22e882399fb954ab2ebef",
          "grade": false,
          "grade_id": "cell-3dbff5286a5d4d7e",
          "locked": true,
          "schema_version": 1,
          "solution": false
        },
        "id": "wjHxCFIUKFCj"
      },
      "source": [
        "__Use the following block to compute an 'musical genre vector' that predicts the genre of music played by Eminem based on another musician/band and their genre__:"
      ]
    },
    {
      "cell_type": "code",
      "execution_count": null,
      "metadata": {
        "deletable": false,
        "nbgrader": {
          "checksum": "5f8f424d440dd6dcd184b16b8c8be299",
          "grade": true,
          "grade_id": "cell-d04e647ab1bc99c8",
          "locked": false,
          "points": 2,
          "schema_version": 1,
          "solution": true
        },
        "id": "iGZePfkhKFCj"
      },
      "outputs": [],
      "source": [
        "# YOUR CODE HERE\n",
        "raise NotImplementedError()"
      ]
    }
  ],
  "metadata": {
    "kernelspec": {
      "display_name": "Python 3",
      "language": "python",
      "name": "python3"
    },
    "language_info": {
      "codemirror_mode": {
        "name": "ipython",
        "version": 3
      },
      "file_extension": ".py",
      "mimetype": "text/x-python",
      "name": "python",
      "nbconvert_exporter": "python",
      "pygments_lexer": "ipython3",
      "version": "3.6.7"
    },
    "colab": {
      "provenance": []
    }
  },
  "nbformat": 4,
  "nbformat_minor": 0
}